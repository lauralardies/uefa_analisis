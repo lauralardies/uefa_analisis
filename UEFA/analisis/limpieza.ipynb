{
 "cells": [
  {
   "cell_type": "markdown",
   "metadata": {},
   "source": [
    "# **Limpieza de datos**\n",
    "\n",
    "### En este archivo visualizaremos, limpiaremos y analizaremos los datos de la carpeta data.\n",
    "\n",
    "Comenzamos importando todas las dependecias necesarias para el correcto funcionamiento del documento, aunque primero hay que asegurarnos que las tenemos instaladas."
   ]
  },
  {
   "cell_type": "code",
   "execution_count": null,
   "metadata": {},
   "outputs": [],
   "source": [
    "# Instalamos librerías\n",
    "%pip install pandas\n",
    "%pip install numpy\n",
    "%pip install matplotlib"
   ]
  },
  {
   "cell_type": "code",
   "execution_count": null,
   "metadata": {},
   "outputs": [],
   "source": [
    "# Importamos librerías\n",
    "%matplotlib inline\n",
    "import pandas as pd\n",
    "import numpy as np\n",
    "import matplotlib.pyplot as plt"
   ]
  },
  {
   "cell_type": "markdown",
   "metadata": {},
   "source": [
    "El siguiente paso es cargar los datos."
   ]
  },
  {
   "cell_type": "code",
   "execution_count": 50,
   "metadata": {},
   "outputs": [],
   "source": [
    "# Cargamos los datos\n",
    "equipos = pd.read_csv('../data/equipos.csv')\n",
    "overall = pd.read_csv('../data/overall.csv')\n",
    "partidos = pd.read_csv('../data/partidos.csv')"
   ]
  },
  {
   "cell_type": "markdown",
   "metadata": {},
   "source": [
    "Ahora iremos analizando tabla por tabla.\n",
    "\n",
    "## Tabla Equipos\n",
    "\n",
    "Comenzamos mostrando su dimensión y sus primeras filas para ver que información contiene."
   ]
  },
  {
   "cell_type": "code",
   "execution_count": 51,
   "metadata": {},
   "outputs": [
    {
     "name": "stdout",
     "output_type": "stream",
     "text": [
      "(640, 17)\n"
     ]
    },
    {
     "data": {
      "text/html": [
       "<div>\n",
       "<style scoped>\n",
       "    .dataframe tbody tr th:only-of-type {\n",
       "        vertical-align: middle;\n",
       "    }\n",
       "\n",
       "    .dataframe tbody tr th {\n",
       "        vertical-align: top;\n",
       "    }\n",
       "\n",
       "    .dataframe thead th {\n",
       "        text-align: right;\n",
       "    }\n",
       "</style>\n",
       "<table border=\"1\" class=\"dataframe\">\n",
       "  <thead>\n",
       "    <tr style=\"text-align: right;\">\n",
       "      <th></th>\n",
       "      <th>Season</th>\n",
       "      <th>Squad</th>\n",
       "      <th># Pl</th>\n",
       "      <th>Age</th>\n",
       "      <th>Poss</th>\n",
       "      <th>MP</th>\n",
       "      <th>Starts</th>\n",
       "      <th>Min</th>\n",
       "      <th>90s</th>\n",
       "      <th>Gls</th>\n",
       "      <th>Ast</th>\n",
       "      <th>G+A</th>\n",
       "      <th>G-PK</th>\n",
       "      <th>PK</th>\n",
       "      <th>PKatt</th>\n",
       "      <th>CrdY</th>\n",
       "      <th>CrdR</th>\n",
       "    </tr>\n",
       "  </thead>\n",
       "  <tbody>\n",
       "    <tr>\n",
       "      <th>0</th>\n",
       "      <td>2022-2023</td>\n",
       "      <td>nlAjax</td>\n",
       "      <td>19</td>\n",
       "      <td>26.4</td>\n",
       "      <td>53.2</td>\n",
       "      <td>6</td>\n",
       "      <td>66</td>\n",
       "      <td>540</td>\n",
       "      <td>6.0</td>\n",
       "      <td>11</td>\n",
       "      <td>9</td>\n",
       "      <td>20</td>\n",
       "      <td>10</td>\n",
       "      <td>1</td>\n",
       "      <td>1.0</td>\n",
       "      <td>15.0</td>\n",
       "      <td>1.0</td>\n",
       "    </tr>\n",
       "    <tr>\n",
       "      <th>1</th>\n",
       "      <td>2022-2023</td>\n",
       "      <td>esAtlético Madrid</td>\n",
       "      <td>22</td>\n",
       "      <td>28.6</td>\n",
       "      <td>56.5</td>\n",
       "      <td>6</td>\n",
       "      <td>66</td>\n",
       "      <td>540</td>\n",
       "      <td>6.0</td>\n",
       "      <td>4</td>\n",
       "      <td>3</td>\n",
       "      <td>7</td>\n",
       "      <td>4</td>\n",
       "      <td>0</td>\n",
       "      <td>2.0</td>\n",
       "      <td>11.0</td>\n",
       "      <td>0.0</td>\n",
       "    </tr>\n",
       "    <tr>\n",
       "      <th>2</th>\n",
       "      <td>2022-2023</td>\n",
       "      <td>esBarcelona</td>\n",
       "      <td>26</td>\n",
       "      <td>26.4</td>\n",
       "      <td>64.8</td>\n",
       "      <td>6</td>\n",
       "      <td>66</td>\n",
       "      <td>540</td>\n",
       "      <td>6.0</td>\n",
       "      <td>12</td>\n",
       "      <td>10</td>\n",
       "      <td>22</td>\n",
       "      <td>12</td>\n",
       "      <td>0</td>\n",
       "      <td>0.0</td>\n",
       "      <td>9.0</td>\n",
       "      <td>0.0</td>\n",
       "    </tr>\n",
       "    <tr>\n",
       "      <th>3</th>\n",
       "      <td>2022-2023</td>\n",
       "      <td>deBayern Munich</td>\n",
       "      <td>24</td>\n",
       "      <td>26.6</td>\n",
       "      <td>56.1</td>\n",
       "      <td>10</td>\n",
       "      <td>110</td>\n",
       "      <td>900</td>\n",
       "      <td>10.0</td>\n",
       "      <td>21</td>\n",
       "      <td>19</td>\n",
       "      <td>40</td>\n",
       "      <td>20</td>\n",
       "      <td>1</td>\n",
       "      <td>1.0</td>\n",
       "      <td>20.0</td>\n",
       "      <td>1.0</td>\n",
       "    </tr>\n",
       "    <tr>\n",
       "      <th>4</th>\n",
       "      <td>2022-2023</td>\n",
       "      <td>ptBenfica</td>\n",
       "      <td>24</td>\n",
       "      <td>26.0</td>\n",
       "      <td>52.9</td>\n",
       "      <td>10</td>\n",
       "      <td>110</td>\n",
       "      <td>900</td>\n",
       "      <td>10.0</td>\n",
       "      <td>25</td>\n",
       "      <td>16</td>\n",
       "      <td>41</td>\n",
       "      <td>20</td>\n",
       "      <td>5</td>\n",
       "      <td>5.0</td>\n",
       "      <td>19.0</td>\n",
       "      <td>0.0</td>\n",
       "    </tr>\n",
       "  </tbody>\n",
       "</table>\n",
       "</div>"
      ],
      "text/plain": [
       "      Season              Squad  # Pl   Age  Poss  MP  Starts  Min   90s  Gls  \\\n",
       "0  2022-2023             nlAjax    19  26.4  53.2   6      66  540   6.0   11   \n",
       "1  2022-2023  esAtlético Madrid    22  28.6  56.5   6      66  540   6.0    4   \n",
       "2  2022-2023        esBarcelona    26  26.4  64.8   6      66  540   6.0   12   \n",
       "3  2022-2023    deBayern Munich    24  26.6  56.1  10     110  900  10.0   21   \n",
       "4  2022-2023          ptBenfica    24  26.0  52.9  10     110  900  10.0   25   \n",
       "\n",
       "   Ast  G+A  G-PK  PK  PKatt  CrdY  CrdR  \n",
       "0    9   20    10   1    1.0  15.0   1.0  \n",
       "1    3    7     4   0    2.0  11.0   0.0  \n",
       "2   10   22    12   0    0.0   9.0   0.0  \n",
       "3   19   40    20   1    1.0  20.0   1.0  \n",
       "4   16   41    20   5    5.0  19.0   0.0  "
      ]
     },
     "execution_count": 51,
     "metadata": {},
     "output_type": "execute_result"
    }
   ],
   "source": [
    "print(equipos.shape)\n",
    "equipos.head()"
   ]
  },
  {
   "cell_type": "markdown",
   "metadata": {},
   "source": [
    "Vemos que tenemos una tabla con 16 columnas y 640 filas. Hablemos de lo que es cada columna:\n",
    "- 'Season' nos dice de qué temporada es el dato.\n",
    "- 'Squad' es el nombre del equipo de fútbol.\n",
    "- '# Pl' es el número de jugadores que se han usado en los partidos.\n",
    "- 'Age' nos dice la edad media de los jugadores del equipo.\n",
    "- 'Poss' es la posesión del equipo de la pelota, que se calcula como el porcentaje de intentos de pasos.\n",
    "- 'MP' es el número de partidos jugados.\n",
    "- 'Starts' son los partidos empezados por el jugador.\n",
    "- 'Min' son los minutos que ha jugado el equipo.\n",
    "- '90s' es el número de minutos jugados partido de 90.\n",
    "- 'Gls' son los goles marcados o permitidos.\n",
    "- 'Ast' asistencias (pase que un jugador realiza a un compañero de equipo y que resulta en un gol).\n",
    "- 'G + A', goles y asistencias.\n",
    "- 'G - PK' nos dice los goles que no vienen de penales.\n",
    "- 'PK' son los goles que sí que vienen de penales.\n",
    "- 'PKatt' nos dice cuales son los tiros que han hecho por penales (cuenta los que han sido gol y los que no).\n",
    "- 'CrdY', las tarjetas amarillas que ha tenido el equipo a lo largo del campeonato. \n",
    "- 'CrdR', las tarjetas rojas que ha tenido el equipo a lo largo del campeonato.\n",
    "\n",
    "Una vez vista la información que contiene esta tabla, veamos si tiene datos nulos y si el tipo de datos de cada columna es el correcto."
   ]
  },
  {
   "cell_type": "code",
   "execution_count": 52,
   "metadata": {},
   "outputs": [
    {
     "name": "stdout",
     "output_type": "stream",
     "text": [
      "<class 'pandas.core.frame.DataFrame'>\n",
      "RangeIndex: 640 entries, 0 to 639\n",
      "Data columns (total 17 columns):\n",
      " #   Column  Non-Null Count  Dtype  \n",
      "---  ------  --------------  -----  \n",
      " 0   Season  640 non-null    object \n",
      " 1   Squad   640 non-null    object \n",
      " 2   # Pl    640 non-null    int64  \n",
      " 3   Age     640 non-null    float64\n",
      " 4   Poss    640 non-null    float64\n",
      " 5   MP      640 non-null    int64  \n",
      " 6   Starts  640 non-null    int64  \n",
      " 7   Min     640 non-null    object \n",
      " 8   90s     640 non-null    float64\n",
      " 9   Gls     640 non-null    int64  \n",
      " 10  Ast     640 non-null    int64  \n",
      " 11  G+A     640 non-null    int64  \n",
      " 12  G-PK    640 non-null    int64  \n",
      " 13  PK      640 non-null    int64  \n",
      " 14  PKatt   640 non-null    float64\n",
      " 15  CrdY    640 non-null    float64\n",
      " 16  CrdR    640 non-null    float64\n",
      "dtypes: float64(6), int64(8), object(3)\n",
      "memory usage: 85.1+ KB\n"
     ]
    }
   ],
   "source": [
    "equipos.info()"
   ]
  },
  {
   "cell_type": "markdown",
   "metadata": {},
   "source": [
    "Podemos pasar las tres últimas columnas a int64 (PKatt, CrdY, CrdR) y cambiar las columnas objeto (Season y Squad a str y Min a int64).\n",
    "\n",
    "Sin embargo, primero iteramos sobre los valores de la columna 'Min' ya que algunos de sus datos contienen una coma y no se pueden convertir a int64."
   ]
  },
  {
   "cell_type": "code",
   "execution_count": 53,
   "metadata": {},
   "outputs": [
    {
     "name": "stdout",
     "output_type": "stream",
     "text": [
      "<class 'pandas.core.frame.DataFrame'>\n",
      "RangeIndex: 640 entries, 0 to 639\n",
      "Data columns (total 17 columns):\n",
      " #   Column  Non-Null Count  Dtype  \n",
      "---  ------  --------------  -----  \n",
      " 0   Season  640 non-null    string \n",
      " 1   Squad   640 non-null    string \n",
      " 2   # Pl    640 non-null    int64  \n",
      " 3   Age     640 non-null    float64\n",
      " 4   Poss    640 non-null    float64\n",
      " 5   MP      640 non-null    int64  \n",
      " 6   Starts  640 non-null    int64  \n",
      " 7   Min     640 non-null    int64  \n",
      " 8   90s     640 non-null    float64\n",
      " 9   Gls     640 non-null    int64  \n",
      " 10  Ast     640 non-null    int64  \n",
      " 11  G+A     640 non-null    int64  \n",
      " 12  G-PK    640 non-null    int64  \n",
      " 13  PK      640 non-null    int64  \n",
      " 14  PKatt   640 non-null    int64  \n",
      " 15  CrdY    640 non-null    int64  \n",
      " 16  CrdR    640 non-null    int64  \n",
      "dtypes: float64(3), int64(12), string(2)\n",
      "memory usage: 85.1 KB\n"
     ]
    }
   ],
   "source": [
    "# Iteramos sobre la columna 'Min'\n",
    "equipos['Min'] = equipos['Min'].apply(lambda x: str(x).replace(',', '') if ',' in str(x) else x)\n",
    "\n",
    "# Pasamos a int64\n",
    "equipos['PKatt'] = equipos['PKatt'].astype('int64')\n",
    "equipos['CrdY'] = equipos['CrdY'].astype('int64')\n",
    "equipos['CrdR'] = equipos['CrdR'].astype('int64')\n",
    "equipos['Min'] = equipos['Min'].astype('int64')\n",
    "\n",
    "# Pasamos a string\n",
    "equipos['Season'] = equipos['Season'].astype('string')\n",
    "equipos['Squad'] = equipos['Squad'].astype('string')\n",
    "\n",
    "# Nos aseguramos de que se hayan hecho los cambios correctamente\n",
    "equipos.info()"
   ]
  },
  {
   "cell_type": "markdown",
   "metadata": {},
   "source": [
    "Lo siguiente que podemos hacer es ver que en la columna de 'Squad' aparece junto al nombre del equipo una abreviatura del país al que pertece. No nos interesa tenerlo en este formato, así que vamos a iterar sobre los valores de esta columna, eliminar la abreviatura de este país y añadir una nueva columna al lado que sea indique el país al que pertenece el equipo. Haremos esto haciendo uso del siguiente diccionario."
   ]
  },
  {
   "cell_type": "code",
   "execution_count": 54,
   "metadata": {},
   "outputs": [
    {
     "ename": "ValueError",
     "evalue": "Length of values (629) does not match length of index (640)",
     "output_type": "error",
     "traceback": [
      "\u001b[1;31m---------------------------------------------------------------------------\u001b[0m",
      "\u001b[1;31mValueError\u001b[0m                                Traceback (most recent call last)",
      "Cell \u001b[1;32mIn[54], line 50\u001b[0m\n\u001b[0;32m     47\u001b[0m             \u001b[38;5;28;01mbreak\u001b[39;00m\n\u001b[0;32m     49\u001b[0m \u001b[38;5;66;03m# Agregamos la columna 'Country' al dataframe en la posición 2\u001b[39;00m\n\u001b[1;32m---> 50\u001b[0m \u001b[43mequipos\u001b[49m\u001b[38;5;241;43m.\u001b[39;49m\u001b[43minsert\u001b[49m\u001b[43m(\u001b[49m\u001b[38;5;241;43m2\u001b[39;49m\u001b[43m,\u001b[49m\u001b[43m \u001b[49m\u001b[38;5;124;43m'\u001b[39;49m\u001b[38;5;124;43mCountry\u001b[39;49m\u001b[38;5;124;43m'\u001b[39;49m\u001b[43m,\u001b[49m\u001b[43m \u001b[49m\u001b[43mpaises\u001b[49m\u001b[43m)\u001b[49m\n\u001b[0;32m     52\u001b[0m \u001b[38;5;66;03m# Nos aseguramos de que se haya agregado correctamente\u001b[39;00m\n\u001b[0;32m     53\u001b[0m equipos\u001b[38;5;241m.\u001b[39mhead()\n",
      "File \u001b[1;32mc:\\Users\\Laura Rodríguez\\python conda\\uefa_analisis\\.venv\\lib\\site-packages\\pandas\\core\\frame.py:5158\u001b[0m, in \u001b[0;36mDataFrame.insert\u001b[1;34m(self, loc, column, value, allow_duplicates)\u001b[0m\n\u001b[0;32m   5155\u001b[0m \u001b[38;5;28;01melif\u001b[39;00m \u001b[38;5;28misinstance\u001b[39m(value, DataFrame):\n\u001b[0;32m   5156\u001b[0m     value \u001b[38;5;241m=\u001b[39m value\u001b[38;5;241m.\u001b[39miloc[:, \u001b[38;5;241m0\u001b[39m]\n\u001b[1;32m-> 5158\u001b[0m value, refs \u001b[38;5;241m=\u001b[39m \u001b[38;5;28;43mself\u001b[39;49m\u001b[38;5;241;43m.\u001b[39;49m\u001b[43m_sanitize_column\u001b[49m\u001b[43m(\u001b[49m\u001b[43mvalue\u001b[49m\u001b[43m)\u001b[49m\n\u001b[0;32m   5159\u001b[0m \u001b[38;5;28mself\u001b[39m\u001b[38;5;241m.\u001b[39m_mgr\u001b[38;5;241m.\u001b[39minsert(loc, column, value, refs\u001b[38;5;241m=\u001b[39mrefs)\n",
      "File \u001b[1;32mc:\\Users\\Laura Rodríguez\\python conda\\uefa_analisis\\.venv\\lib\\site-packages\\pandas\\core\\frame.py:5253\u001b[0m, in \u001b[0;36mDataFrame._sanitize_column\u001b[1;34m(self, value)\u001b[0m\n\u001b[0;32m   5250\u001b[0m     \u001b[38;5;28;01mreturn\u001b[39;00m _reindex_for_setitem(value, \u001b[38;5;28mself\u001b[39m\u001b[38;5;241m.\u001b[39mindex)\n\u001b[0;32m   5252\u001b[0m \u001b[38;5;28;01mif\u001b[39;00m is_list_like(value):\n\u001b[1;32m-> 5253\u001b[0m     \u001b[43mcom\u001b[49m\u001b[38;5;241;43m.\u001b[39;49m\u001b[43mrequire_length_match\u001b[49m\u001b[43m(\u001b[49m\u001b[43mvalue\u001b[49m\u001b[43m,\u001b[49m\u001b[43m \u001b[49m\u001b[38;5;28;43mself\u001b[39;49m\u001b[38;5;241;43m.\u001b[39;49m\u001b[43mindex\u001b[49m\u001b[43m)\u001b[49m\n\u001b[0;32m   5254\u001b[0m arr \u001b[38;5;241m=\u001b[39m sanitize_array(value, \u001b[38;5;28mself\u001b[39m\u001b[38;5;241m.\u001b[39mindex, copy\u001b[38;5;241m=\u001b[39m\u001b[38;5;28;01mTrue\u001b[39;00m, allow_2d\u001b[38;5;241m=\u001b[39m\u001b[38;5;28;01mTrue\u001b[39;00m)\n\u001b[0;32m   5255\u001b[0m \u001b[38;5;28;01mif\u001b[39;00m (\n\u001b[0;32m   5256\u001b[0m     \u001b[38;5;28misinstance\u001b[39m(value, Index)\n\u001b[0;32m   5257\u001b[0m     \u001b[38;5;129;01mand\u001b[39;00m value\u001b[38;5;241m.\u001b[39mdtype \u001b[38;5;241m==\u001b[39m \u001b[38;5;124m\"\u001b[39m\u001b[38;5;124mobject\u001b[39m\u001b[38;5;124m\"\u001b[39m\n\u001b[1;32m   (...)\u001b[0m\n\u001b[0;32m   5260\u001b[0m     \u001b[38;5;66;03m# TODO: Remove kludge in sanitize_array for string mode when enforcing\u001b[39;00m\n\u001b[0;32m   5261\u001b[0m     \u001b[38;5;66;03m# this deprecation\u001b[39;00m\n",
      "File \u001b[1;32mc:\\Users\\Laura Rodríguez\\python conda\\uefa_analisis\\.venv\\lib\\site-packages\\pandas\\core\\common.py:571\u001b[0m, in \u001b[0;36mrequire_length_match\u001b[1;34m(data, index)\u001b[0m\n\u001b[0;32m    567\u001b[0m \u001b[38;5;250m\u001b[39m\u001b[38;5;124;03m\"\"\"\u001b[39;00m\n\u001b[0;32m    568\u001b[0m \u001b[38;5;124;03mCheck the length of data matches the length of the index.\u001b[39;00m\n\u001b[0;32m    569\u001b[0m \u001b[38;5;124;03m\"\"\"\u001b[39;00m\n\u001b[0;32m    570\u001b[0m \u001b[38;5;28;01mif\u001b[39;00m \u001b[38;5;28mlen\u001b[39m(data) \u001b[38;5;241m!=\u001b[39m \u001b[38;5;28mlen\u001b[39m(index):\n\u001b[1;32m--> 571\u001b[0m     \u001b[38;5;28;01mraise\u001b[39;00m \u001b[38;5;167;01mValueError\u001b[39;00m(\n\u001b[0;32m    572\u001b[0m         \u001b[38;5;124m\"\u001b[39m\u001b[38;5;124mLength of values \u001b[39m\u001b[38;5;124m\"\u001b[39m\n\u001b[0;32m    573\u001b[0m         \u001b[38;5;124mf\u001b[39m\u001b[38;5;124m\"\u001b[39m\u001b[38;5;124m(\u001b[39m\u001b[38;5;132;01m{\u001b[39;00m\u001b[38;5;28mlen\u001b[39m(data)\u001b[38;5;132;01m}\u001b[39;00m\u001b[38;5;124m) \u001b[39m\u001b[38;5;124m\"\u001b[39m\n\u001b[0;32m    574\u001b[0m         \u001b[38;5;124m\"\u001b[39m\u001b[38;5;124mdoes not match length of index \u001b[39m\u001b[38;5;124m\"\u001b[39m\n\u001b[0;32m    575\u001b[0m         \u001b[38;5;124mf\u001b[39m\u001b[38;5;124m\"\u001b[39m\u001b[38;5;124m(\u001b[39m\u001b[38;5;132;01m{\u001b[39;00m\u001b[38;5;28mlen\u001b[39m(index)\u001b[38;5;132;01m}\u001b[39;00m\u001b[38;5;124m)\u001b[39m\u001b[38;5;124m\"\u001b[39m\n\u001b[0;32m    576\u001b[0m     )\n",
      "\u001b[1;31mValueError\u001b[0m: Length of values (629) does not match length of index (640)"
     ]
    }
   ],
   "source": [
    "# Creamos un diccionario con los paises y sus abreviaturas\n",
    "paises_dict = {\n",
    "    'Alemania': 'de',\n",
    "    'España': 'es',\n",
    "    'Inglaterra': 'en',\n",
    "    'Italia': 'it',\n",
    "    'Francia': 'fr',\n",
    "    'Países bajos': 'nl',\n",
    "    'Portugal': 'pt',\n",
    "    'Bélgica': 'be',\n",
    "    'Escocia': 'sct',\n",
    "    'Irlanda': 'ie',\n",
    "    'Gales': 'wal',\n",
    "    'República checa': 'cz',\n",
    "    'Suiza': 'ch',\n",
    "    'Austria': 'at',\n",
    "    'Dinamarca': 'dk',\n",
    "    'Suecia': 'se',\n",
    "    'Eslovenia': 'si',\n",
    "    'Eslovaquia': 'sk',\n",
    "    'Rumanía': 'ro',\n",
    "    'Bulgaria': 'bg',\n",
    "    'Serbia': 'rs',\n",
    "    'Grecia': 'gr',\n",
    "    'Moldavia': 'md',\n",
    "    'Chipre': 'cy',\n",
    "    'Rusia': 'ru',\n",
    "    'Bielorrusia': 'by',\n",
    "    'Ucrania': 'ua',\n",
    "    'Turquía': 'tr',\n",
    "    'Israel': 'il',\n",
    "    'Azerbaiyán': 'az',\n",
    "    'Kazajistán': 'kz'\n",
    "}\n",
    "\n",
    "# Donde almacenaremos los paises para agregar al dataframe como nueva columna\n",
    "paises = []\n",
    "\n",
    "# Iteramos sobre la columna 'Squad'\n",
    "for equipo in equipos['Squad']:\n",
    "    # Iteramos sobre el diccionario de paises\n",
    "    for key, value in paises_dict.items():\n",
    "        # Si el nombre del equipo comienza o termina con el valor del diccionario\n",
    "        if equipo.startswith(value) or equipo.endswith(value):\n",
    "            equipo = equipo.replace(value, '')\n",
    "            paises.append(key)\n",
    "            break\n",
    "    else:\n",
    "        print('error', equipo)\n",
    " '''\n",
    "# Agregamos la columna 'Country' al dataframe en la posición 2\n",
    "equipos.insert(2, 'Country', paises)\n",
    "\n",
    "# Nos aseguramos de que se haya agregado correctamente\n",
    "equipos.head()\n",
    "'''"
   ]
  }
 ],
 "metadata": {
  "kernelspec": {
   "display_name": ".venv",
   "language": "python",
   "name": "python3"
  },
  "language_info": {
   "codemirror_mode": {
    "name": "ipython",
    "version": 3
   },
   "file_extension": ".py",
   "mimetype": "text/x-python",
   "name": "python",
   "nbconvert_exporter": "python",
   "pygments_lexer": "ipython3",
   "version": "3.9.13"
  }
 },
 "nbformat": 4,
 "nbformat_minor": 2
}
