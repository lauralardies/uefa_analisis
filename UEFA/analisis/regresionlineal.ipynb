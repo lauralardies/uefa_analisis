{
 "cells": [
  {
   "cell_type": "markdown",
   "metadata": {},
   "source": [
    "# **Regresión Lineal**\n",
    "\n",
    "Vamos a tratar de predecir cuántos goles hará cada equipo en el campeonato. Primero importamos todas las librerías que usaremos y las instalamos en caso de ser necesario."
   ]
  },
  {
   "cell_type": "code",
   "execution_count": 184,
   "metadata": {},
   "outputs": [
    {
     "name": "stdout",
     "output_type": "stream",
     "text": [
      "Defaulting to user installation because normal site-packages is not writeable\n",
      "Requirement already satisfied: pandas in c:\\programdata\\anaconda3\\lib\\site-packages (1.4.2)\n",
      "Requirement already satisfied: python-dateutil>=2.8.1 in c:\\programdata\\anaconda3\\lib\\site-packages (from pandas) (2.8.2)\n",
      "Requirement already satisfied: pytz>=2020.1 in c:\\programdata\\anaconda3\\lib\\site-packages (from pandas) (2021.3)\n",
      "Requirement already satisfied: numpy>=1.18.5 in c:\\users\\laura rodríguez\\appdata\\roaming\\python\\python39\\site-packages (from pandas) (1.22.4)\n",
      "Requirement already satisfied: six>=1.5 in c:\\users\\laura rodríguez\\appdata\\roaming\\python\\python39\\site-packages (from python-dateutil>=2.8.1->pandas) (1.16.0)\n",
      "Note: you may need to restart the kernel to use updated packages.\n"
     ]
    },
    {
     "name": "stderr",
     "output_type": "stream",
     "text": [
      "WARNING: Ignoring invalid distribution -ffi (c:\\users\\laura rodríguez\\appdata\\roaming\\python\\python39\\site-packages)\n",
      "WARNING: Ignoring invalid distribution -ffi (c:\\users\\laura rodríguez\\appdata\\roaming\\python\\python39\\site-packages)\n"
     ]
    },
    {
     "name": "stdout",
     "output_type": "stream",
     "text": [
      "Defaulting to user installation because normal site-packages is not writeable\n",
      "Requirement already satisfied: numpy in c:\\users\\laura rodríguez\\appdata\\roaming\\python\\python39\\site-packages (1.22.4)\n",
      "Note: you may need to restart the kernel to use updated packages.\n"
     ]
    },
    {
     "name": "stderr",
     "output_type": "stream",
     "text": [
      "WARNING: Ignoring invalid distribution -ffi (c:\\users\\laura rodríguez\\appdata\\roaming\\python\\python39\\site-packages)\n",
      "WARNING: Ignoring invalid distribution -ffi (c:\\users\\laura rodríguez\\appdata\\roaming\\python\\python39\\site-packages)\n"
     ]
    },
    {
     "name": "stdout",
     "output_type": "stream",
     "text": [
      "Defaulting to user installation because normal site-packages is not writeable\n",
      "Requirement already satisfied: seaborn in c:\\programdata\\anaconda3\\lib\\site-packages (0.11.2)\n",
      "Requirement already satisfied: numpy>=1.15 in c:\\users\\laura rodríguez\\appdata\\roaming\\python\\python39\\site-packages (from seaborn) (1.22.4)\n",
      "Requirement already satisfied: scipy>=1.0 in c:\\programdata\\anaconda3\\lib\\site-packages (from seaborn) (1.7.3)\n",
      "Requirement already satisfied: pandas>=0.23 in c:\\programdata\\anaconda3\\lib\\site-packages (from seaborn) (1.4.2)\n",
      "Requirement already satisfied: matplotlib>=2.2 in c:\\programdata\\anaconda3\\lib\\site-packages (from seaborn) (3.5.1)\n",
      "Requirement already satisfied: cycler>=0.10 in c:\\programdata\\anaconda3\\lib\\site-packages (from matplotlib>=2.2->seaborn) (0.11.0)\n",
      "Requirement already satisfied: fonttools>=4.22.0 in c:\\programdata\\anaconda3\\lib\\site-packages (from matplotlib>=2.2->seaborn) (4.25.0)\n",
      "Requirement already satisfied: kiwisolver>=1.0.1 in c:\\programdata\\anaconda3\\lib\\site-packages (from matplotlib>=2.2->seaborn) (1.3.2)\n",
      "Requirement already satisfied: packaging>=20.0 in c:\\programdata\\anaconda3\\lib\\site-packages (from matplotlib>=2.2->seaborn) (21.3)\n",
      "Requirement already satisfied: pillow>=6.2.0 in c:\\programdata\\anaconda3\\lib\\site-packages (from matplotlib>=2.2->seaborn) (9.0.1)\n",
      "Requirement already satisfied: pyparsing>=2.2.1 in c:\\programdata\\anaconda3\\lib\\site-packages (from matplotlib>=2.2->seaborn) (3.0.4)\n",
      "Requirement already satisfied: python-dateutil>=2.7 in c:\\programdata\\anaconda3\\lib\\site-packages (from matplotlib>=2.2->seaborn) (2.8.2)\n",
      "Requirement already satisfied: pytz>=2020.1 in c:\\programdata\\anaconda3\\lib\\site-packages (from pandas>=0.23->seaborn) (2021.3)\n",
      "Requirement already satisfied: six>=1.5 in c:\\users\\laura rodríguez\\appdata\\roaming\\python\\python39\\site-packages (from python-dateutil>=2.7->matplotlib>=2.2->seaborn) (1.16.0)\n",
      "Note: you may need to restart the kernel to use updated packages.\n"
     ]
    },
    {
     "name": "stderr",
     "output_type": "stream",
     "text": [
      "WARNING: Ignoring invalid distribution -ffi (c:\\users\\laura rodríguez\\appdata\\roaming\\python\\python39\\site-packages)\n",
      "WARNING: Ignoring invalid distribution -ffi (c:\\users\\laura rodríguez\\appdata\\roaming\\python\\python39\\site-packages)\n"
     ]
    },
    {
     "name": "stdout",
     "output_type": "stream",
     "text": [
      "Defaulting to user installation because normal site-packages is not writeable\n",
      "Requirement already satisfied: matplotlib in c:\\programdata\\anaconda3\\lib\\site-packages (3.5.1)\n",
      "Requirement already satisfied: cycler>=0.10 in c:\\programdata\\anaconda3\\lib\\site-packages (from matplotlib) (0.11.0)\n",
      "Requirement already satisfied: fonttools>=4.22.0 in c:\\programdata\\anaconda3\\lib\\site-packages (from matplotlib) (4.25.0)\n",
      "Requirement already satisfied: kiwisolver>=1.0.1 in c:\\programdata\\anaconda3\\lib\\site-packages (from matplotlib) (1.3.2)\n",
      "Requirement already satisfied: numpy>=1.17 in c:\\users\\laura rodríguez\\appdata\\roaming\\python\\python39\\site-packages (from matplotlib) (1.22.4)\n",
      "Requirement already satisfied: packaging>=20.0 in c:\\programdata\\anaconda3\\lib\\site-packages (from matplotlib) (21.3)\n",
      "Requirement already satisfied: pillow>=6.2.0 in c:\\programdata\\anaconda3\\lib\\site-packages (from matplotlib) (9.0.1)\n",
      "Requirement already satisfied: pyparsing>=2.2.1 in c:\\programdata\\anaconda3\\lib\\site-packages (from matplotlib) (3.0.4)\n",
      "Requirement already satisfied: python-dateutil>=2.7 in c:\\programdata\\anaconda3\\lib\\site-packages (from matplotlib) (2.8.2)\n",
      "Requirement already satisfied: six>=1.5 in c:\\users\\laura rodríguez\\appdata\\roaming\\python\\python39\\site-packages (from python-dateutil>=2.7->matplotlib) (1.16.0)\n",
      "Note: you may need to restart the kernel to use updated packages.\n"
     ]
    },
    {
     "name": "stderr",
     "output_type": "stream",
     "text": [
      "WARNING: Ignoring invalid distribution -ffi (c:\\users\\laura rodríguez\\appdata\\roaming\\python\\python39\\site-packages)\n",
      "WARNING: Ignoring invalid distribution -ffi (c:\\users\\laura rodríguez\\appdata\\roaming\\python\\python39\\site-packages)\n"
     ]
    },
    {
     "name": "stdout",
     "output_type": "stream",
     "text": [
      "Defaulting to user installation because normal site-packages is not writeable\n",
      "Collecting sklearn\n",
      "  Using cached sklearn-0.0.post12.tar.gz (2.6 kB)\n",
      "  Preparing metadata (setup.py): started\n",
      "  Preparing metadata (setup.py): finished with status 'error'\n",
      "Note: you may need to restart the kernel to use updated packages.\n"
     ]
    },
    {
     "name": "stderr",
     "output_type": "stream",
     "text": [
      "WARNING: Ignoring invalid distribution -ffi (c:\\users\\laura rodríguez\\appdata\\roaming\\python\\python39\\site-packages)\n",
      "  error: subprocess-exited-with-error\n",
      "  \n",
      "  × python setup.py egg_info did not run successfully.\n",
      "  │ exit code: 1\n",
      "  ╰─> [15 lines of output]\n",
      "      The 'sklearn' PyPI package is deprecated, use 'scikit-learn'\n",
      "      rather than 'sklearn' for pip commands.\n",
      "      \n",
      "      Here is how to fix this error in the main use cases:\n",
      "      - use 'pip install scikit-learn' rather than 'pip install sklearn'\n",
      "      - replace 'sklearn' by 'scikit-learn' in your pip requirements files\n",
      "        (requirements.txt, setup.py, setup.cfg, Pipfile, etc ...)\n",
      "      - if the 'sklearn' package is used by one of your dependencies,\n",
      "        it would be great if you take some time to track which package uses\n",
      "        'sklearn' instead of 'scikit-learn' and report it to their issue tracker\n",
      "      - as a last resort, set the environment variable\n",
      "        SKLEARN_ALLOW_DEPRECATED_SKLEARN_PACKAGE_INSTALL=True to avoid this error\n",
      "      \n",
      "      More information is available at\n",
      "      https://github.com/scikit-learn/sklearn-pypi-package\n",
      "      [end of output]\n",
      "  \n",
      "  note: This error originates from a subprocess, and is likely not a problem with pip.\n",
      "error: metadata-generation-failed\n",
      "\n",
      "× Encountered error while generating package metadata.\n",
      "╰─> See above for output.\n",
      "\n",
      "note: This is an issue with the package mentioned above, not pip.\n",
      "hint: See above for details.\n"
     ]
    },
    {
     "name": "stdout",
     "output_type": "stream",
     "text": [
      "Defaulting to user installation because normal site-packages is not writeable\n",
      "Note: you may need to restart the kernel to use updated packages.\n"
     ]
    },
    {
     "name": "stderr",
     "output_type": "stream",
     "text": [
      "WARNING: Ignoring invalid distribution -ffi (c:\\users\\laura rodríguez\\appdata\\roaming\\python\\python39\\site-packages)\n",
      "ERROR: Could not find a version that satisfies the requirement pickle (from versions: none)\n",
      "ERROR: No matching distribution found for pickle\n"
     ]
    }
   ],
   "source": [
    "# Instalamos las librerías necesarias\n",
    "%pip install pandas\n",
    "%pip install numpy\n",
    "%pip install seaborn\n",
    "%pip install matplotlib\n",
    "%pip install sklearn\n",
    "%pip install pickle"
   ]
  },
  {
   "cell_type": "code",
   "execution_count": 185,
   "metadata": {},
   "outputs": [],
   "source": [
    "# Importamos las librerías necesarias\n",
    "%matplotlib inline\n",
    "import pandas as pd\n",
    "import numpy as np\n",
    "import seaborn as sns\n",
    "import matplotlib.pyplot as plt\n",
    "from sklearn.preprocessing import LabelEncoder\n",
    "from sklearn.linear_model import LinearRegression\n",
    "from sklearn.model_selection import train_test_split\n",
    "from sklearn.preprocessing import StandardScaler, PowerTransformer\n",
    "from sklearn.metrics import r2_score\n",
    "import pickle"
   ]
  },
  {
   "cell_type": "markdown",
   "metadata": {},
   "source": [
    "El próximo paso es cargar los datos limpios."
   ]
  },
  {
   "cell_type": "code",
   "execution_count": 186,
   "metadata": {},
   "outputs": [
    {
     "data": {
      "text/html": [
       "<div>\n",
       "<style scoped>\n",
       "    .dataframe tbody tr th:only-of-type {\n",
       "        vertical-align: middle;\n",
       "    }\n",
       "\n",
       "    .dataframe tbody tr th {\n",
       "        vertical-align: top;\n",
       "    }\n",
       "\n",
       "    .dataframe thead th {\n",
       "        text-align: right;\n",
       "    }\n",
       "</style>\n",
       "<table border=\"1\" class=\"dataframe\">\n",
       "  <thead>\n",
       "    <tr style=\"text-align: right;\">\n",
       "      <th></th>\n",
       "      <th>Season</th>\n",
       "      <th>Squad</th>\n",
       "      <th>Country</th>\n",
       "      <th># Pl</th>\n",
       "      <th>Age</th>\n",
       "      <th>MP</th>\n",
       "      <th>Starts</th>\n",
       "      <th>Gls</th>\n",
       "      <th>Ast</th>\n",
       "      <th>G+A</th>\n",
       "      <th>G-PK</th>\n",
       "      <th>PK</th>\n",
       "      <th>PKatt</th>\n",
       "      <th>CrdY</th>\n",
       "      <th>CrdR</th>\n",
       "    </tr>\n",
       "  </thead>\n",
       "  <tbody>\n",
       "    <tr>\n",
       "      <th>0</th>\n",
       "      <td>2022-2023</td>\n",
       "      <td>Ajax</td>\n",
       "      <td>Países bajos</td>\n",
       "      <td>19</td>\n",
       "      <td>26.4</td>\n",
       "      <td>6</td>\n",
       "      <td>66</td>\n",
       "      <td>11</td>\n",
       "      <td>9</td>\n",
       "      <td>20</td>\n",
       "      <td>10</td>\n",
       "      <td>1</td>\n",
       "      <td>1</td>\n",
       "      <td>15.0</td>\n",
       "      <td>1.0</td>\n",
       "    </tr>\n",
       "    <tr>\n",
       "      <th>1</th>\n",
       "      <td>2022-2023</td>\n",
       "      <td>Atlético Madrid</td>\n",
       "      <td>España</td>\n",
       "      <td>22</td>\n",
       "      <td>28.6</td>\n",
       "      <td>6</td>\n",
       "      <td>66</td>\n",
       "      <td>4</td>\n",
       "      <td>3</td>\n",
       "      <td>7</td>\n",
       "      <td>4</td>\n",
       "      <td>0</td>\n",
       "      <td>2</td>\n",
       "      <td>11.0</td>\n",
       "      <td>0.0</td>\n",
       "    </tr>\n",
       "    <tr>\n",
       "      <th>2</th>\n",
       "      <td>2022-2023</td>\n",
       "      <td>Barcelona</td>\n",
       "      <td>España</td>\n",
       "      <td>26</td>\n",
       "      <td>26.4</td>\n",
       "      <td>6</td>\n",
       "      <td>66</td>\n",
       "      <td>12</td>\n",
       "      <td>10</td>\n",
       "      <td>22</td>\n",
       "      <td>12</td>\n",
       "      <td>0</td>\n",
       "      <td>0</td>\n",
       "      <td>9.0</td>\n",
       "      <td>0.0</td>\n",
       "    </tr>\n",
       "    <tr>\n",
       "      <th>3</th>\n",
       "      <td>2022-2023</td>\n",
       "      <td>Bayern Munich</td>\n",
       "      <td>Alemania</td>\n",
       "      <td>24</td>\n",
       "      <td>26.6</td>\n",
       "      <td>10</td>\n",
       "      <td>110</td>\n",
       "      <td>21</td>\n",
       "      <td>19</td>\n",
       "      <td>40</td>\n",
       "      <td>20</td>\n",
       "      <td>1</td>\n",
       "      <td>1</td>\n",
       "      <td>20.0</td>\n",
       "      <td>1.0</td>\n",
       "    </tr>\n",
       "    <tr>\n",
       "      <th>4</th>\n",
       "      <td>2022-2023</td>\n",
       "      <td>Benfica</td>\n",
       "      <td>Portugal</td>\n",
       "      <td>24</td>\n",
       "      <td>26.0</td>\n",
       "      <td>10</td>\n",
       "      <td>110</td>\n",
       "      <td>25</td>\n",
       "      <td>16</td>\n",
       "      <td>41</td>\n",
       "      <td>20</td>\n",
       "      <td>5</td>\n",
       "      <td>5</td>\n",
       "      <td>19.0</td>\n",
       "      <td>0.0</td>\n",
       "    </tr>\n",
       "  </tbody>\n",
       "</table>\n",
       "</div>"
      ],
      "text/plain": [
       "      Season            Squad       Country  # Pl   Age  MP  Starts  Gls  Ast  \\\n",
       "0  2022-2023             Ajax  Países bajos    19  26.4   6      66   11    9   \n",
       "1  2022-2023  Atlético Madrid        España    22  28.6   6      66    4    3   \n",
       "2  2022-2023        Barcelona        España    26  26.4   6      66   12   10   \n",
       "3  2022-2023    Bayern Munich      Alemania    24  26.6  10     110   21   19   \n",
       "4  2022-2023          Benfica      Portugal    24  26.0  10     110   25   16   \n",
       "\n",
       "   G+A  G-PK  PK  PKatt  CrdY  CrdR  \n",
       "0   20    10   1      1  15.0   1.0  \n",
       "1    7     4   0      2  11.0   0.0  \n",
       "2   22    12   0      0   9.0   0.0  \n",
       "3   40    20   1      1  20.0   1.0  \n",
       "4   41    20   5      5  19.0   0.0  "
      ]
     },
     "execution_count": 186,
     "metadata": {},
     "output_type": "execute_result"
    }
   ],
   "source": [
    "datos = pd.read_csv('../data/equipos_limpio.csv')\n",
    "datos.head()"
   ]
  },
  {
   "cell_type": "code",
   "execution_count": 187,
   "metadata": {},
   "outputs": [
    {
     "name": "stdout",
     "output_type": "stream",
     "text": [
      "<class 'pandas.core.frame.DataFrame'>\n",
      "RangeIndex: 640 entries, 0 to 639\n",
      "Data columns (total 15 columns):\n",
      " #   Column   Non-Null Count  Dtype  \n",
      "---  ------   --------------  -----  \n",
      " 0   Season   640 non-null    object \n",
      " 1   Squad    640 non-null    object \n",
      " 2   Country  640 non-null    object \n",
      " 3   # Pl     640 non-null    int64  \n",
      " 4   Age      640 non-null    float64\n",
      " 5   MP       640 non-null    int64  \n",
      " 6   Starts   640 non-null    int64  \n",
      " 7   Gls      640 non-null    int64  \n",
      " 8   Ast      640 non-null    int64  \n",
      " 9   G+A      640 non-null    int64  \n",
      " 10  G-PK     640 non-null    int64  \n",
      " 11  PK       640 non-null    int64  \n",
      " 12  PKatt    640 non-null    int64  \n",
      " 13  CrdY     576 non-null    float64\n",
      " 14  CrdR     576 non-null    float64\n",
      "dtypes: float64(3), int64(9), object(3)\n",
      "memory usage: 75.1+ KB\n"
     ]
    }
   ],
   "source": [
    "datos.info()"
   ]
  },
  {
   "cell_type": "markdown",
   "metadata": {},
   "source": [
    "Vemos que todavía tenemos algunas filas nulas. Al limpiar los datos no nos importaba tener algunas filas nulas, pero para hacer la regresión es muy importante no contar con ningún dato de este tipo."
   ]
  },
  {
   "cell_type": "code",
   "execution_count": 188,
   "metadata": {},
   "outputs": [
    {
     "name": "stdout",
     "output_type": "stream",
     "text": [
      "<class 'pandas.core.frame.DataFrame'>\n",
      "Int64Index: 576 entries, 0 to 639\n",
      "Data columns (total 15 columns):\n",
      " #   Column   Non-Null Count  Dtype  \n",
      "---  ------   --------------  -----  \n",
      " 0   Season   576 non-null    object \n",
      " 1   Squad    576 non-null    object \n",
      " 2   Country  576 non-null    object \n",
      " 3   # Pl     576 non-null    int64  \n",
      " 4   Age      576 non-null    float64\n",
      " 5   MP       576 non-null    int64  \n",
      " 6   Starts   576 non-null    int64  \n",
      " 7   Gls      576 non-null    int64  \n",
      " 8   Ast      576 non-null    int64  \n",
      " 9   G+A      576 non-null    int64  \n",
      " 10  G-PK     576 non-null    int64  \n",
      " 11  PK       576 non-null    int64  \n",
      " 12  PKatt    576 non-null    int64  \n",
      " 13  CrdY     576 non-null    float64\n",
      " 14  CrdR     576 non-null    float64\n",
      "dtypes: float64(3), int64(9), object(3)\n",
      "memory usage: 72.0+ KB\n"
     ]
    }
   ],
   "source": [
    "# Eliminamos las filas que contienen valores nulos\n",
    "datos = datos.dropna()\n",
    "\n",
    "# Vemos que se ha hecho el cambio correctamente\n",
    "datos.info()"
   ]
  },
  {
   "cell_type": "markdown",
   "metadata": {},
   "source": [
    "Observamos que hay algunas variables categóricas que podríamos pasar a numéricas, pues nos podrían ayudar en nuestra predicción posteriormente."
   ]
  },
  {
   "cell_type": "code",
   "execution_count": 189,
   "metadata": {},
   "outputs": [
    {
     "name": "stdout",
     "output_type": "stream",
     "text": [
      "['2022-2023' '2021-2022' '2020-2021' '2019-2020' '2018-2019' '2016-2017'\n",
      " '2014-2015' '2013-2014' '2012-2013' '2011-2012' '2010-2011' '2009-2010'\n",
      " '2008-2009' '2007-2008' '2006-2007' '2005-2006' '2004-2005' '2003-2004']\n",
      "['Ajax' 'Atlético Madrid' 'Barcelona' 'Bayern Munich' 'Benfica' 'Celtic'\n",
      " 'Chelsea' 'Club Brugge' 'Dinamo Zagreb' 'Dortmund' 'Eint Frankfurt'\n",
      " 'FC Copenhagen' 'Inter' 'Juventus' 'Leverkusen' 'Liverpool'\n",
      " 'Maccabi Haifa' 'Manchester City' 'Marseille' 'Milan' 'Napoli'\n",
      " 'Paris S-G' 'Porto' 'Rangers' 'RB Leipzig' 'RB Salzburg' 'Real Madrid'\n",
      " 'Sevilla' 'Shakhtar' 'Sporting CP' 'Tottenham' 'Viktoria Plzeň'\n",
      " 'Atalanta' 'Beşiktaş' 'Dynamo Kyiv' 'Lille' 'Malmö' 'Manchester Utd'\n",
      " 'Sheriff Tiraspol' 'Villarreal' 'Wolfsburg' 'Young Boys' 'ruZen'\n",
      " 'Başakşehir' 'Ferencváros' 'Krasnodar' 'Lazio' 'Loko Moscow' \"M'Gladbach\"\n",
      " 'Midtjylland' 'Olympiacos' 'frRenn' 'Galatasaray' 'Genk' 'Lyon'\n",
      " 'Red Star' 'Slavia Prague' 'Valencia' 'AEK Athens' 'CSKA Moscow'\n",
      " 'Hoffenheim' 'Monaco' 'PSV Eindhoven' 'Roma' 'Schalke 04' 'Arsenal'\n",
      " 'Basel' 'Legia Warsaw' 'Leicester City' 'Ludogorets' 'Rostov'\n",
      " 'Anderlecht' 'APOEL FC' 'Athletic Club' 'BATE Borisov' 'NK Maribor'\n",
      " 'Austria Wien' 'Real Sociedad' 'Steaua' 'Braga' 'CFR Cluj' 'Málaga'\n",
      " 'Montpellier' 'Nordsjælland' 'Spartak Moscow' 'Oțelul Galați'\n",
      " 'Trabzonspor' 'Auxerre' 'Bursaspor' 'Hapoel Tel Aviv' 'MŠK Žilina'\n",
      " 'Panathinaikos' 'Partizan' 'Rubin Kazan' 'Twente' 'Werr Bremen'\n",
      " 'AZ Alkmaar' 'Bordeaux' 'Debrecen' 'Fiorentina' 'Standard Liège'\n",
      " 'Stuttgart' 'Unirea Urziceni' 'Züri' 'Aalborg' 'Anorthosis' 'Fenerbahçe'\n",
      " 'Rosenborg' 'Hamburger SV' 'Levski Sofia' 'Artmedia' 'Betis' 'Rapid Wien'\n",
      " 'Sparta Prague' 'Thun' 'Udinese' 'La Coruña' 'Maccabi Tel Aviv'\n",
      " 'Celta Vigo']\n",
      "['Países bajos' 'España' 'Alemania' 'Portugal' 'Escocia' 'Inglaterra'\n",
      " 'Bélgica' 'Croacia' 'Dinamarca' 'Italia' 'Israel' 'Francia' 'Austria'\n",
      " 'Ucrania' 'República checa' 'Turquía' 'Suecia' 'Moldavia' 'Suiza'\n",
      " 'Hungría' 'Rusia' 'Grecia' 'Serbia' 'Polonia' 'Bulgaria' 'Chipre'\n",
      " 'Bielorrusia' 'Eslovenia' 'Rumanía' 'Eslovaquia' 'Noruega']\n"
     ]
    }
   ],
   "source": [
    "print(datos['Season'].unique())\n",
    "print(datos['Squad'].unique())\n",
    "print(datos['Country'].unique())"
   ]
  },
  {
   "cell_type": "markdown",
   "metadata": {},
   "source": [
    "Vemos que hay muchos equipos diferentes, así que no vale la pena convertir esta columna a numérica. Sin embargo, el resto de columas sí que vale la pena convertirlas a numéricas."
   ]
  },
  {
   "cell_type": "code",
   "execution_count": 190,
   "metadata": {},
   "outputs": [
    {
     "name": "stdout",
     "output_type": "stream",
     "text": [
      "{'2003-2004': 0, '2004-2005': 1, '2005-2006': 2, '2006-2007': 3, '2007-2008': 4, '2008-2009': 5, '2009-2010': 6, '2010-2011': 7, '2011-2012': 8, '2012-2013': 9, '2013-2014': 10, '2014-2015': 11, '2016-2017': 12, '2018-2019': 13, '2019-2020': 14, '2020-2021': 15, '2021-2022': 16, '2022-2023': 17}\n"
     ]
    }
   ],
   "source": [
    "# Columna 'Season'\n",
    "le = LabelEncoder().fit(datos['Season'])\n",
    "datos['Season'] = le.transform(datos['Season'])\n",
    "\n",
    "# Obtenemos los valores únicos originales\n",
    "valores_originales = le.classes_\n",
    "# Creamos un diccionario de mapeo para ver a qué valor numérico corresponde cada valor original\n",
    "temporada = dict(zip(valores_originales, le.transform(valores_originales)))\n",
    "\n",
    "print(temporada)"
   ]
  },
  {
   "cell_type": "code",
   "execution_count": 191,
   "metadata": {},
   "outputs": [
    {
     "name": "stdout",
     "output_type": "stream",
     "text": [
      "{'Alemania': 0, 'Austria': 1, 'Bielorrusia': 2, 'Bulgaria': 3, 'Bélgica': 4, 'Chipre': 5, 'Croacia': 6, 'Dinamarca': 7, 'Escocia': 8, 'Eslovaquia': 9, 'Eslovenia': 10, 'España': 11, 'Francia': 12, 'Grecia': 13, 'Hungría': 14, 'Inglaterra': 15, 'Israel': 16, 'Italia': 17, 'Moldavia': 18, 'Noruega': 19, 'Países bajos': 20, 'Polonia': 21, 'Portugal': 22, 'República checa': 23, 'Rumanía': 24, 'Rusia': 25, 'Serbia': 26, 'Suecia': 27, 'Suiza': 28, 'Turquía': 29, 'Ucrania': 30}\n"
     ]
    }
   ],
   "source": [
    "# Columna 'Country'\n",
    "le = LabelEncoder().fit(datos['Country'])\n",
    "datos['Country'] = le.transform(datos['Country'])\n",
    "\n",
    "# Obtenemos los valores únicos originales\n",
    "valores_originales = le.classes_\n",
    "# Creamos un diccionario de mapeo para ver a qué valor numérico corresponde cada valor original\n",
    "paises = dict(zip(valores_originales, le.transform(valores_originales)))\n",
    "\n",
    "print(paises)"
   ]
  },
  {
   "cell_type": "markdown",
   "metadata": {},
   "source": [
    "Para ver con qué columnas hacemos la regresión, debemos mirar cuanta correlación hay entre ellas."
   ]
  },
  {
   "cell_type": "code",
   "execution_count": 192,
   "metadata": {},
   "outputs": [
    {
     "data": {
      "text/plain": [
       "<AxesSubplot:>"
      ]
     },
     "execution_count": 192,
     "metadata": {},
     "output_type": "execute_result"
    },
    {
     "data": {
      "image/png": "[encoded data removed]",
      "text/plain": [
       "<Figure size 1080x720 with 2 Axes>"
      ]
     },
     "metadata": {
      "needs_background": "light"
     },
     "output_type": "display_data"
    }
   ],
   "source": [
    "#Ahora vamos a hacer una matriz de correlaciones para ver que columnas están más correlacionadas con el precio\n",
    "plt.figure(figsize=(15, 10))\n",
    "sns.set(style='white')\n",
    "\n",
    "mask=np.triu(np.ones_like(datos.corr(), dtype=bool))\n",
    "cmap=sns.diverging_palette(0, 10, as_cmap=True)\n",
    "\n",
    "sns.heatmap(datos.corr(),\n",
    "          mask=mask,\n",
    "          cmap=cmap,\n",
    "          center=0,\n",
    "          square=True,\n",
    "          annot=True,\n",
    "          linewidths=0.5,\n",
    "          cbar_kws={'shrink': 0.5})"
   ]
  },
  {
   "cell_type": "markdown",
   "metadata": {},
   "source": [
    "Nos deshacemos de la única columna categórica que queda en nuestros datos, ya que no podemos hacer una regresión lineal con datos no numéricos. \n",
    "\n",
    "Si hacemos la regresión lineal con el resto de columnas, nos daría una regresión lineal muy buena. Sin embargo estaríamos 'falseando' los datos, pues mantenemos las columnas 'G-PK', 'G+A' y 'Ast' que están tan correlacionadas con nuestra variable a predecir que se podría decir que son prácticamente iguales. \n",
    "\n",
    "La multicolinealidad puede causar problemas en el modelo de regresión, como coeficientes estimados imprecisos o inestabilidad en las estimaciones. Cuando dos variables independientes están altamente correlacionadas, el modelo puede tener dificultades para distinguir el efecto individual de cada variable sobre la variable dependiente.\n",
    "\n",
    "Por lo tanto, también nos desharemos de aquellas columnas que están altamente correlacionadas con nuestra variable a predecir, 'Gls'."
   ]
  },
  {
   "cell_type": "code",
   "execution_count": 193,
   "metadata": {},
   "outputs": [
    {
     "data": {
      "text/html": [
       "<div>\n",
       "<style scoped>\n",
       "    .dataframe tbody tr th:only-of-type {\n",
       "        vertical-align: middle;\n",
       "    }\n",
       "\n",
       "    .dataframe tbody tr th {\n",
       "        vertical-align: top;\n",
       "    }\n",
       "\n",
       "    .dataframe thead th {\n",
       "        text-align: right;\n",
       "    }\n",
       "</style>\n",
       "<table border=\"1\" class=\"dataframe\">\n",
       "  <thead>\n",
       "    <tr style=\"text-align: right;\">\n",
       "      <th></th>\n",
       "      <th>Season</th>\n",
       "      <th>Country</th>\n",
       "      <th># Pl</th>\n",
       "      <th>Age</th>\n",
       "      <th>MP</th>\n",
       "      <th>Starts</th>\n",
       "      <th>Gls</th>\n",
       "      <th>PK</th>\n",
       "      <th>PKatt</th>\n",
       "      <th>CrdY</th>\n",
       "      <th>CrdR</th>\n",
       "    </tr>\n",
       "  </thead>\n",
       "  <tbody>\n",
       "    <tr>\n",
       "      <th>0</th>\n",
       "      <td>17</td>\n",
       "      <td>20</td>\n",
       "      <td>19</td>\n",
       "      <td>26.4</td>\n",
       "      <td>6</td>\n",
       "      <td>66</td>\n",
       "      <td>11</td>\n",
       "      <td>1</td>\n",
       "      <td>1</td>\n",
       "      <td>15.0</td>\n",
       "      <td>1.0</td>\n",
       "    </tr>\n",
       "    <tr>\n",
       "      <th>1</th>\n",
       "      <td>17</td>\n",
       "      <td>11</td>\n",
       "      <td>22</td>\n",
       "      <td>28.6</td>\n",
       "      <td>6</td>\n",
       "      <td>66</td>\n",
       "      <td>4</td>\n",
       "      <td>0</td>\n",
       "      <td>2</td>\n",
       "      <td>11.0</td>\n",
       "      <td>0.0</td>\n",
       "    </tr>\n",
       "    <tr>\n",
       "      <th>2</th>\n",
       "      <td>17</td>\n",
       "      <td>11</td>\n",
       "      <td>26</td>\n",
       "      <td>26.4</td>\n",
       "      <td>6</td>\n",
       "      <td>66</td>\n",
       "      <td>12</td>\n",
       "      <td>0</td>\n",
       "      <td>0</td>\n",
       "      <td>9.0</td>\n",
       "      <td>0.0</td>\n",
       "    </tr>\n",
       "    <tr>\n",
       "      <th>3</th>\n",
       "      <td>17</td>\n",
       "      <td>0</td>\n",
       "      <td>24</td>\n",
       "      <td>26.6</td>\n",
       "      <td>10</td>\n",
       "      <td>110</td>\n",
       "      <td>21</td>\n",
       "      <td>1</td>\n",
       "      <td>1</td>\n",
       "      <td>20.0</td>\n",
       "      <td>1.0</td>\n",
       "    </tr>\n",
       "    <tr>\n",
       "      <th>4</th>\n",
       "      <td>17</td>\n",
       "      <td>22</td>\n",
       "      <td>24</td>\n",
       "      <td>26.0</td>\n",
       "      <td>10</td>\n",
       "      <td>110</td>\n",
       "      <td>25</td>\n",
       "      <td>5</td>\n",
       "      <td>5</td>\n",
       "      <td>19.0</td>\n",
       "      <td>0.0</td>\n",
       "    </tr>\n",
       "  </tbody>\n",
       "</table>\n",
       "</div>"
      ],
      "text/plain": [
       "   Season  Country  # Pl   Age  MP  Starts  Gls  PK  PKatt  CrdY  CrdR\n",
       "0      17       20    19  26.4   6      66   11   1      1  15.0   1.0\n",
       "1      17       11    22  28.6   6      66    4   0      2  11.0   0.0\n",
       "2      17       11    26  26.4   6      66   12   0      0   9.0   0.0\n",
       "3      17        0    24  26.6  10     110   21   1      1  20.0   1.0\n",
       "4      17       22    24  26.0  10     110   25   5      5  19.0   0.0"
      ]
     },
     "execution_count": 193,
     "metadata": {},
     "output_type": "execute_result"
    }
   ],
   "source": [
    "datos = datos.drop(columns=['Squad', 'G-PK', 'G+A', 'Ast'])\n",
    "datos.head()"
   ]
  },
  {
   "cell_type": "markdown",
   "metadata": {},
   "source": [
    "Ya comenzamos con nuestro modelo de regresión lineal, que tratará de predecir los goles."
   ]
  },
  {
   "cell_type": "code",
   "execution_count": 194,
   "metadata": {},
   "outputs": [
    {
     "name": "stderr",
     "output_type": "stream",
     "text": [
      "c:\\ProgramData\\Anaconda3\\lib\\site-packages\\pandas\\core\\arraylike.py:397: RuntimeWarning: divide by zero encountered in log\n",
      "  result = getattr(ufunc, method)(*inputs, **kwargs)\n"
     ]
    },
    {
     "data": {
      "text/html": [
       "<div>\n",
       "<style scoped>\n",
       "    .dataframe tbody tr th:only-of-type {\n",
       "        vertical-align: middle;\n",
       "    }\n",
       "\n",
       "    .dataframe tbody tr th {\n",
       "        vertical-align: top;\n",
       "    }\n",
       "\n",
       "    .dataframe thead th {\n",
       "        text-align: right;\n",
       "    }\n",
       "</style>\n",
       "<table border=\"1\" class=\"dataframe\">\n",
       "  <thead>\n",
       "    <tr style=\"text-align: right;\">\n",
       "      <th></th>\n",
       "      <th>Season</th>\n",
       "      <th>Country</th>\n",
       "      <th># Pl</th>\n",
       "      <th>Age</th>\n",
       "      <th>MP</th>\n",
       "      <th>Starts</th>\n",
       "      <th>PK</th>\n",
       "      <th>PKatt</th>\n",
       "      <th>CrdY</th>\n",
       "      <th>CrdR</th>\n",
       "    </tr>\n",
       "  </thead>\n",
       "  <tbody>\n",
       "    <tr>\n",
       "      <th>0</th>\n",
       "      <td>-0.175156</td>\n",
       "      <td>0.660063</td>\n",
       "      <td>-0.216999</td>\n",
       "      <td>-1.205445</td>\n",
       "      <td>-1.200671</td>\n",
       "      <td>-0.872192</td>\n",
       "      <td>0.743613</td>\n",
       "      <td>0.427876</td>\n",
       "      <td>-0.211569</td>\n",
       "      <td>-0.862298</td>\n",
       "    </tr>\n",
       "    <tr>\n",
       "      <th>1</th>\n",
       "      <td>0.204203</td>\n",
       "      <td>0.329265</td>\n",
       "      <td>0.896525</td>\n",
       "      <td>1.026128</td>\n",
       "      <td>0.731101</td>\n",
       "      <td>1.198870</td>\n",
       "      <td>-0.904244</td>\n",
       "      <td>-1.033779</td>\n",
       "      <td>1.028363</td>\n",
       "      <td>-0.862298</td>\n",
       "    </tr>\n",
       "    <tr>\n",
       "      <th>2</th>\n",
       "      <td>0.901041</td>\n",
       "      <td>0.875943</td>\n",
       "      <td>1.239289</td>\n",
       "      <td>0.890005</td>\n",
       "      <td>0.731101</td>\n",
       "      <td>1.198870</td>\n",
       "      <td>1.693562</td>\n",
       "      <td>1.773210</td>\n",
       "      <td>1.028363</td>\n",
       "      <td>-0.862298</td>\n",
       "    </tr>\n",
       "    <tr>\n",
       "      <th>3</th>\n",
       "      <td>1.065372</td>\n",
       "      <td>0.982634</td>\n",
       "      <td>-0.620837</td>\n",
       "      <td>0.202921</td>\n",
       "      <td>-1.200671</td>\n",
       "      <td>-0.872192</td>\n",
       "      <td>0.743613</td>\n",
       "      <td>0.427876</td>\n",
       "      <td>0.549301</td>\n",
       "      <td>-0.862298</td>\n",
       "    </tr>\n",
       "    <tr>\n",
       "      <th>4</th>\n",
       "      <td>-0.804102</td>\n",
       "      <td>0.875943</td>\n",
       "      <td>0.169576</td>\n",
       "      <td>-0.425010</td>\n",
       "      <td>-0.052031</td>\n",
       "      <td>0.551663</td>\n",
       "      <td>1.276804</td>\n",
       "      <td>1.033191</td>\n",
       "      <td>-0.480946</td>\n",
       "      <td>0.934792</td>\n",
       "    </tr>\n",
       "  </tbody>\n",
       "</table>\n",
       "</div>"
      ],
      "text/plain": [
       "     Season   Country      # Pl       Age        MP    Starts        PK  \\\n",
       "0 -0.175156  0.660063 -0.216999 -1.205445 -1.200671 -0.872192  0.743613   \n",
       "1  0.204203  0.329265  0.896525  1.026128  0.731101  1.198870 -0.904244   \n",
       "2  0.901041  0.875943  1.239289  0.890005  0.731101  1.198870  1.693562   \n",
       "3  1.065372  0.982634 -0.620837  0.202921 -1.200671 -0.872192  0.743613   \n",
       "4 -0.804102  0.875943  0.169576 -0.425010 -0.052031  0.551663  1.276804   \n",
       "\n",
       "      PKatt      CrdY      CrdR  \n",
       "0  0.427876 -0.211569 -0.862298  \n",
       "1 -1.033779  1.028363 -0.862298  \n",
       "2  1.773210  1.028363 -0.862298  \n",
       "3  0.427876  0.549301 -0.862298  \n",
       "4  1.033191 -0.480946  0.934792  "
      ]
     },
     "execution_count": 194,
     "metadata": {},
     "output_type": "execute_result"
    }
   ],
   "source": [
    "# Definimos nuestras variables x e y\n",
    "x = datos.drop('Gls',axis=1)\n",
    "y = datos['Gls']\n",
    "\n",
    "# Dividimos los datos en entrenamiento y prueba\n",
    "x_train, x_test, y_train, y_test = train_test_split(x, y, test_size=0.3, random_state=42)\n",
    "\n",
    "# Normalizamos los datos\n",
    "pt = PowerTransformer()\n",
    "pt.fit(x_train)\n",
    "with open(\"../scalers/scalers.plk\",\"wb\") as f:\n",
    "    pickle.dump(pt, f)\n",
    "\n",
    "# Normalizamos lo que se asemeje a una distribución normal\n",
    "x_train_scaled = pt.transform(x_train)\n",
    "x_test_scaled = pt.transform(x_test)\n",
    "\n",
    "y_train_scaled = np.log(y_train)\n",
    "\n",
    "x_train_scaled = pd.DataFrame(x_train_scaled, columns=x.columns)\n",
    "x_test_scaled = pd.DataFrame(x_test_scaled, columns=x.columns)\n",
    "\n",
    "x_train_scaled.head()"
   ]
  },
  {
   "cell_type": "markdown",
   "metadata": {},
   "source": [
    "Si tratamos de hacer una regresión lineal con los datos tal y como están ahora, nos va a salir un error: ValueError: Input contains NaN, infinity or a value too large for dtype('float64').\n",
    "\n",
    "¿Dónde están estos valores que no nos permiten hacer una regresión lineal?"
   ]
  },
  {
   "cell_type": "code",
   "execution_count": 195,
   "metadata": {},
   "outputs": [
    {
     "name": "stdout",
     "output_type": "stream",
     "text": [
      "False\n",
      "False\n",
      "False\n",
      "True\n",
      "3.7612001156935624\n",
      "Season     1.539886\n",
      "Country    1.709532\n",
      "# Pl       3.062746\n",
      "Age        2.364861\n",
      "MP         1.930097\n",
      "Starts     1.735692\n",
      "PK         1.868195\n",
      "PKatt      2.079674\n",
      "CrdY       2.269416\n",
      "CrdR       1.781182\n",
      "dtype: float64\n"
     ]
    },
    {
     "name": "stderr",
     "output_type": "stream",
     "text": [
      "C:\\Users\\Laura Rodríguez\\AppData\\Roaming\\Python\\Python39\\site-packages\\numpy\\core\\fromnumeric.py:84: FutureWarning: In a future version, DataFrame.max(axis=None) will return a scalar max over the entire DataFrame. To retain the old behavior, use 'frame.max(axis=0)' or just 'frame.max()'\n",
      "  return reduction(axis=axis, out=out, **passkwargs)\n"
     ]
    }
   ],
   "source": [
    "# Verificamos si hay valores NaN\n",
    "print(np.any(np.isnan(y_train_scaled)))\n",
    "print(np.any(np.isnan(x_train_scaled)))\n",
    "\n",
    "# Verificamos si los valores son finitos\n",
    "print(np.all(np.isfinite(y_train_scaled)))\n",
    "print(np.all(np.isfinite(x_train_scaled)))\n",
    "\n",
    "# Vemos los valores máximos en caso de que sea demasiado grande para float64.\n",
    "print(np.max(y_train_scaled))\n",
    "print(np.max(x_train_scaled))"
   ]
  },
  {
   "cell_type": "markdown",
   "metadata": {},
   "source": [
    "Vemos que la variable `y_trained_scaled` es la que nos da problemas, pues nos da False cuando le preguntamos si sus valores son finitos.\n",
    "\n",
    "El próximo paso es identificar los valores infinitos y manjearlos. En nuestro caso, calcularemos el mínimo de los valores finitos y sustituiremos aquellos valores infinitos por el mínimo.\n",
    "\n",
    "¿Por qué sustituimos por el mínimo? Si nos fijamos, definimos `y_trained_scaled` como un logaritmo y los logaritmos dan -inf cuando el valor x es muy próximo a 0. Por lo tanto, le daremos a aquellos valores no finitos el valor finito más pequeño que tengamos entre nuestros datos."
   ]
  },
  {
   "cell_type": "code",
   "execution_count": 196,
   "metadata": {},
   "outputs": [
    {
     "name": "stdout",
     "output_type": "stream",
     "text": [
      "[      -inf 0.         0.69314718 1.09861229 1.38629436 1.60943791\n",
      " 1.79175947 1.94591015 2.07944154 2.19722458 2.30258509 2.39789527\n",
      " 2.48490665 2.56494936 2.63905733 2.7080502  2.77258872 2.83321334\n",
      " 2.89037176 2.94443898 2.99573227 3.04452244 3.09104245 3.13549422\n",
      " 3.17805383 3.21887582 3.25809654 3.29583687 3.33220451 3.36729583\n",
      " 3.40119738 3.4339872  3.49650756 3.52636052 3.71357207 3.76120012]\n"
     ]
    }
   ],
   "source": [
    "print(np.unique(y_train_scaled))"
   ]
  },
  {
   "cell_type": "code",
   "execution_count": 197,
   "metadata": {},
   "outputs": [],
   "source": [
    "# Encontrar el mínimo valor finito\n",
    "min_valor_finito = np.nanmin(y_train_scaled[np.isfinite(y_train_scaled)])\n",
    "\n",
    "# Reemplaza los valores infinitos con el mínimo de los valores finitos\n",
    "y_train_scaled[np.isinf(y_train_scaled)] = min_valor_finito"
   ]
  },
  {
   "cell_type": "markdown",
   "metadata": {},
   "source": [
    "Ahora ya podemos comenzar con nuestro modelo de regresión lineal."
   ]
  },
  {
   "cell_type": "code",
   "execution_count": 198,
   "metadata": {},
   "outputs": [
    {
     "data": {
      "text/plain": [
       "LinearRegression()"
      ]
     },
     "execution_count": 198,
     "metadata": {},
     "output_type": "execute_result"
    }
   ],
   "source": [
    "# Creamos el modelo de regresión lineal\n",
    "lr = LinearRegression()\n",
    "lr.fit(x_train_scaled,y_train_scaled)"
   ]
  },
  {
   "cell_type": "code",
   "execution_count": 199,
   "metadata": {},
   "outputs": [],
   "source": [
    "# Hacemos las predicciones\n",
    "y_pred = lr.predict(x_test_scaled)"
   ]
  },
  {
   "cell_type": "markdown",
   "metadata": {},
   "source": [
    "El coeficiente de determinación (R^2) es una medida estadística que indica qué tan bien se ajustan las predicciones de un modelo a los valores reales de la variable dependiente. Varía entre 0 y 1, donde 1 indica una predicción perfecta y 0 indica que el modelo no es mejor que simplemente predecir la media de los datos de entrenamiento."
   ]
  },
  {
   "cell_type": "code",
   "execution_count": 200,
   "metadata": {},
   "outputs": [
    {
     "data": {
      "text/plain": [
       "0.6930441778610177"
      ]
     },
     "execution_count": 200,
     "metadata": {},
     "output_type": "execute_result"
    }
   ],
   "source": [
    "# Ahora vamos a calcular R^2\n",
    "r2_score(y_test, np.exp(y_pred))"
   ]
  },
  {
   "cell_type": "markdown",
   "metadata": {},
   "source": [
    "Vemos que el valor del coeficiente está más cerca del 1 que del 0, por lo que nuestro modelo no va por mal camino. Sin embargo todavía está bastante lejos del 1 así que la predicción podría mejorar.\n",
    "\n",
    "Por último, graficamos nuestros resultados."
   ]
  },
  {
   "cell_type": "code",
   "execution_count": 201,
   "metadata": {},
   "outputs": [
    {
     "data": {
      "image/png": "[encoded data removed]",
      "text/plain": [
       "<Figure size 576x576 with 2 Axes>"
      ]
     },
     "metadata": {},
     "output_type": "display_data"
    }
   ],
   "source": [
    "# Creamos una variable que nos indica si la diferencia entre los valores reales y los predichos\n",
    "diferencia = abs(np.exp(y_test) - np.exp(y_pred))\n",
    "\n",
    "# Crear el scatter plot\n",
    "plt.figure(figsize=(8, 8))\n",
    "plt.scatter(y_test, np.exp(y_pred), c=diferencia, cmap='coolwarm', label='Goles')\n",
    "\n",
    "# Agregar la recta de regresión\n",
    "plt.plot(y_test, y_test, color='black', linestyle='-', linewidth=2, label='Recta de Regresión')\n",
    "\n",
    "plt.xlabel('Goles Reales')\n",
    "plt.ylabel('Goles Predichos')\n",
    "plt.title('Scatter Plot de los Goles Reales vs. los Goles Predichos')\n",
    "\n",
    "# Agregar barra de color y leyenda\n",
    "cbar = plt.colorbar()\n",
    "cbar.set_label('Diferencia')\n",
    "plt.legend()\n",
    "\n",
    "plt.show()"
   ]
  },
  {
   "cell_type": "markdown",
   "metadata": {},
   "source": [
    "Al calcular el coeficiente de determinación ya vimos que la predicción era buena pero no porfecta y ver los resultados visualmente nos lo afirma. "
   ]
  }
 ],
 "metadata": {
  "kernelspec": {
   "display_name": "Python 3",
   "language": "python",
   "name": "python3"
  },
  "language_info": {
   "codemirror_mode": {
    "name": "ipython",
    "version": 3
   },
   "file_extension": ".py",
   "mimetype": "text/x-python",
   "name": "python",
   "nbconvert_exporter": "python",
   "pygments_lexer": "ipython3",
   "version": "3.9.12"
  }
 },
 "nbformat": 4,
 "nbformat_minor": 2
}
