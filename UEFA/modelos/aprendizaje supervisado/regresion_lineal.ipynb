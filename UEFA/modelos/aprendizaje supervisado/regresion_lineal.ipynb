{
 "cells": [
  {
   "cell_type": "markdown",
   "metadata": {},
   "source": [
    "# **Regresión Lineal**\n",
    "\n",
    "### En este archivo desarrollaremos un modelo de regresión lineal. Este modelo nos predecirá el ganador de un partido.\n",
    "\n",
    "Comenzamos importando todas las dependecias necesarias para el correcto funcionamiento del documento."
   ]
  },
  {
   "cell_type": "code",
   "execution_count": 5,
   "metadata": {},
   "outputs": [],
   "source": [
    "# Importamos librerías\n",
    "\n",
    "# Visualización de datos\n",
    "%matplotlib inline\n",
    "import matplotlib.pyplot as plt\n",
    "\n",
    "# Manipulación de datos\n",
    "import pandas as pd\n",
    "import numpy as np\n",
    "\n",
    "# Preparación de los datos\n",
    "from sklearn.preprocessing import LabelEncoder, scale\n",
    "from sklearn.model_selection import train_test_split\n",
    "\n",
    "# Modelos de predicción\n",
    "from sklearn.linear_model import LinearRegression\n",
    "\n",
    "# Métricas de evaluación\n",
    "from sklearn.metrics import mean_squared_error, r2_score"
   ]
  },
  {
   "cell_type": "markdown",
   "metadata": {},
   "source": [
    "Importamos los datos que usaremos para la predicción."
   ]
  },
  {
   "cell_type": "code",
   "execution_count": 6,
   "metadata": {},
   "outputs": [],
   "source": [
    "partidos = pd.read_csv('../../data/partidos_limpio.csv')"
   ]
  },
  {
   "cell_type": "markdown",
   "metadata": {},
   "source": [
    "Vemos qué tipos de datos tenemos en nustra tabla. Aquellos datos que no sean numéricos debemos convertirlos para que nuestro modelo de regresión lineal los pueda entender."
   ]
  },
  {
   "cell_type": "code",
   "execution_count": 7,
   "metadata": {},
   "outputs": [
    {
     "name": "stdout",
     "output_type": "stream",
     "text": [
      "<class 'pandas.core.frame.DataFrame'>\n",
      "RangeIndex: 598 entries, 0 to 597\n",
      "Data columns (total 39 columns):\n",
      " #   Column          Non-Null Count  Dtype  \n",
      "---  ------          --------------  -----  \n",
      " 0   Season          598 non-null    object \n",
      " 1   Round           598 non-null    object \n",
      " 2   Day             598 non-null    object \n",
      " 3   Date            598 non-null    object \n",
      " 4   Results         598 non-null    object \n",
      " 5   Home            598 non-null    object \n",
      " 6   Country (Home)  598 non-null    object \n",
      " 7   Points (Home)   598 non-null    float64\n",
      " 8   Score (Home)    598 non-null    int64  \n",
      " 9   Score (Away)    598 non-null    int64  \n",
      " 10  Points (Away)   598 non-null    float64\n",
      " 11  Country (Away)  598 non-null    object \n",
      " 12  Away            598 non-null    object \n",
      " 13  Venue           598 non-null    object \n",
      " 14  Referee         598 non-null    object \n",
      " 15  # Pl_home       540 non-null    float64\n",
      " 16  Age_home        540 non-null    float64\n",
      " 17  MP_home         540 non-null    float64\n",
      " 18  Starts_home     540 non-null    float64\n",
      " 19  Gls_home        540 non-null    float64\n",
      " 20  Ast_home        540 non-null    float64\n",
      " 21  G+A_home        540 non-null    float64\n",
      " 22  G-PK_home       540 non-null    float64\n",
      " 23  PK_home         540 non-null    float64\n",
      " 24  PKatt_home      540 non-null    float64\n",
      " 25  CrdY_home       540 non-null    float64\n",
      " 26  CrdR_home       540 non-null    float64\n",
      " 27  # Pl_away       540 non-null    float64\n",
      " 28  Age_away        540 non-null    float64\n",
      " 29  MP_away         540 non-null    float64\n",
      " 30  Starts_away     540 non-null    float64\n",
      " 31  Gls_away        540 non-null    float64\n",
      " 32  Ast_away        540 non-null    float64\n",
      " 33  G+A_away        540 non-null    float64\n",
      " 34  G-PK_away       540 non-null    float64\n",
      " 35  PK_away         540 non-null    float64\n",
      " 36  PKatt_away      540 non-null    float64\n",
      " 37  CrdY_away       540 non-null    float64\n",
      " 38  CrdR_away       540 non-null    float64\n",
      "dtypes: float64(26), int64(2), object(11)\n",
      "memory usage: 182.3+ KB\n"
     ]
    }
   ],
   "source": [
    "partidos.info()"
   ]
  },
  {
   "cell_type": "markdown",
   "metadata": {},
   "source": [
    "Usando Label Encoder transformamos los datos categóricos a numéricos. Las columnas 'Home' y 'Away', 'Country (Home)' y 'Country (Away)' las concatenamos antes de aplicar el Label Encoder ya que a pesar de ser columnas diferentes, sus valores describen lo mismo. Las concatenamos para que al aplicar Label Encoder se use el mismo diccionario de clave-valor para ambas columnas.\n",
    "\n",
    "Además, la columna 'Date' la pasamos a datetime y la separamos en Año, Mes y Día para que esta fecha sea un dato numérico y podamos incluirlo en nuestro modelo.\n",
    "\n",
    "Ya de paso, escalamos los datos para que el diccionario guarde directamente los datos escalados."
   ]
  },
  {
   "cell_type": "code",
   "execution_count": 8,
   "metadata": {},
   "outputs": [
    {
     "name": "stdout",
     "output_type": "stream",
     "text": [
      "<class 'pandas.core.frame.DataFrame'>\n",
      "RangeIndex: 598 entries, 0 to 597\n",
      "Data columns (total 41 columns):\n",
      " #   Column          Non-Null Count  Dtype  \n",
      "---  ------          --------------  -----  \n",
      " 0   Season          598 non-null    float64\n",
      " 1   Round           598 non-null    float64\n",
      " 2   Day             598 non-null    float64\n",
      " 3   Results         598 non-null    int32  \n",
      " 4   Home            598 non-null    float64\n",
      " 5   Country (Home)  598 non-null    float64\n",
      " 6   Points (Home)   598 non-null    float64\n",
      " 7   Score (Home)    598 non-null    int64  \n",
      " 8   Score (Away)    598 non-null    int64  \n",
      " 9   Points (Away)   598 non-null    float64\n",
      " 10  Country (Away)  598 non-null    float64\n",
      " 11  Away            598 non-null    float64\n",
      " 12  Venue           598 non-null    float64\n",
      " 13  Referee         598 non-null    float64\n",
      " 14  # Pl_home       540 non-null    float64\n",
      " 15  Age_home        540 non-null    float64\n",
      " 16  MP_home         540 non-null    float64\n",
      " 17  Starts_home     540 non-null    float64\n",
      " 18  Gls_home        540 non-null    float64\n",
      " 19  Ast_home        540 non-null    float64\n",
      " 20  G+A_home        540 non-null    float64\n",
      " 21  G-PK_home       540 non-null    float64\n",
      " 22  PK_home         540 non-null    float64\n",
      " 23  PKatt_home      540 non-null    float64\n",
      " 24  CrdY_home       540 non-null    float64\n",
      " 25  CrdR_home       540 non-null    float64\n",
      " 26  # Pl_away       540 non-null    float64\n",
      " 27  Age_away        540 non-null    float64\n",
      " 28  MP_away         540 non-null    float64\n",
      " 29  Starts_away     540 non-null    float64\n",
      " 30  Gls_away        540 non-null    float64\n",
      " 31  Ast_away        540 non-null    float64\n",
      " 32  G+A_away        540 non-null    float64\n",
      " 33  G-PK_away       540 non-null    float64\n",
      " 34  PK_away         540 non-null    float64\n",
      " 35  PKatt_away      540 non-null    float64\n",
      " 36  CrdY_away       540 non-null    float64\n",
      " 37  CrdR_away       540 non-null    float64\n",
      " 38  Year            598 non-null    float64\n",
      " 39  Month           598 non-null    float64\n",
      " 40  Number Day      598 non-null    float64\n",
      "dtypes: float64(38), int32(1), int64(2)\n",
      "memory usage: 189.3 KB\n"
     ]
    }
   ],
   "source": [
    "# Columnas a modificar\n",
    "cols = ['Season', 'Round', 'Day', 'Date', 'Results', 'Home', 'Away', 'Country (Home)', 'Country (Away)', 'Venue', 'Referee', 'Year', 'Month', 'Number Day']\n",
    "\n",
    "# Inicializamos el label encoder\n",
    "label_encoder = LabelEncoder()\n",
    "\n",
    "# Creamos un diccionario para guardar los mapeos de valores escalados\n",
    "mapping = {}\n",
    "\n",
    "# Transformamos la columna 'Date' a datetime\n",
    "partidos['Date'] = pd.to_datetime(partidos['Date'])\n",
    "\n",
    "# Iteramos sobre las columnas y las transformamos\n",
    "for col in cols:\n",
    "    # Si la columna es de tipo datetime, la transformamos a año, mes y día\n",
    "    if col == 'Date':\n",
    "        partidos['Year'] = partidos['Date'].dt.year\n",
    "        partidos['Month'] = partidos['Date'].dt.month\n",
    "        partidos['Number Day'] = partidos['Date'].dt.day\n",
    "        continue\n",
    "    \n",
    "    # Guardamos los valores únicos originales antes de la transformación\n",
    "    unique_values = partidos[col].unique()\n",
    "    \n",
    "    partidos[col] = label_encoder.fit_transform(partidos[col])\n",
    "\n",
    "    if col != 'Results':\n",
    "        # Escalamos los valores originales y creamos un mapeo de los valores originales a los valores escalados\n",
    "        partidos[col] = scale(partidos[col])\n",
    "    \n",
    "    mapping[col] = dict(zip(unique_values, partidos[col].unique()))\n",
    "\n",
    "# Eliminamos la columna 'Date'\n",
    "partidos.drop('Date', axis=1, inplace=True)\n",
    "\n",
    "# Verificamos los cambios\n",
    "partidos.info()"
   ]
  },
  {
   "cell_type": "markdown",
   "metadata": {},
   "source": [
    "Eliminamos aquellas filas que contengan algún dato nulo."
   ]
  },
  {
   "cell_type": "code",
   "execution_count": 9,
   "metadata": {},
   "outputs": [],
   "source": [
    "partidos = partidos.dropna()"
   ]
  },
  {
   "cell_type": "markdown",
   "metadata": {},
   "source": [
    "Una vez convertidos todos los datos a numéricos, podemos comenzar a desarrollar nuestro modelo de regresión lineal."
   ]
  },
  {
   "cell_type": "code",
   "execution_count": 10,
   "metadata": {},
   "outputs": [
    {
     "name": "stdout",
     "output_type": "stream",
     "text": [
      "Results         :  {'A': 0, 'H': 2, 'D': 1}\n",
      "Predicted labels:  [1. 1. 1. 2. 0. 1. 1. 1. 1. 1.]\n",
      "Actual labels   :  [0, 2, 2, 2, 0, 0, 0, 2, 1, 0]\n"
     ]
    }
   ],
   "source": [
    "# Definimos las variables X e y (variable objetivo)\n",
    "X = partidos.drop(labels=['Results', 'Score (Home)', 'Score (Away)', 'Referee'], axis=1)\n",
    "y = partidos['Results']\n",
    "\n",
    "# Estandarizamos los datos\n",
    "\n",
    "# Columnas a estandarizar\n",
    "cols = ['Points (Home)', 'Points (Away)', '# Pl_home','Age_home','MP_home','Starts_home','Gls_home','Ast_home','G+A_home','G-PK_home','PK_home','PKatt_home','CrdY_home','CrdR_home','# Pl_away','Age_away','MP_away','Starts_away','Gls_away','Ast_away','G+A_away','G-PK_away','PK_away','PKatt_away','CrdY_away','CrdR_away']\n",
    "\n",
    "# Se recorren las columnas especificadas y se escala cada una\n",
    "for col in cols:\n",
    "    X[col] = scale(X[col])\n",
    "    \n",
    "# Dividimos los datos en entrenamiento y prueba\n",
    "X_train, X_test, y_train, y_test = train_test_split(X, y, test_size=0.30, random_state=0)\n",
    "\n",
    "# Creamos el modelo de regresión lineal y lo entrenamos\n",
    "model = LinearRegression().fit(X_train, y_train)\n",
    "\n",
    "# Realizamos predicciones\n",
    "predictions = model.predict(X_test)\n",
    "np.set_printoptions(suppress=True) # Evitamos la notación científica\n",
    "\n",
    "# Comparamos las predicciones con los valores reales mostrando solo 10 valores en pantalla\n",
    "print('Results         : ', mapping['Results']) # Mostramos el mapeo de los valores para saber a qué corresponde cada valor\n",
    "print('Predicted labels: ', np.round(predictions)[:10])\n",
    "print('Actual labels   : ' ,y_test[:10].tolist())"
   ]
  },
  {
   "cell_type": "markdown",
   "metadata": {},
   "source": [
    "Una vez entrenado el modelo y habiendo hecho predicciones, es hora de evaluarlo."
   ]
  },
  {
   "cell_type": "code",
   "execution_count": 11,
   "metadata": {},
   "outputs": [
    {
     "name": "stdout",
     "output_type": "stream",
     "text": [
      "MSE : 0.5587330190758774\n",
      "RMSE: 0.7474844607588023\n",
      "R2  : 0.2399238361690169\n"
     ]
    }
   ],
   "source": [
    "# Calculamos las métricas de evaluación\n",
    "\n",
    "# MSE (Mean Squared Error) - Error Cuadrático Medio\n",
    "# Sirve para medir la calidad de un estimador. Mientras más bajo sea el valor, mejor es el estimador\n",
    "mse = mean_squared_error(y_test, predictions)\n",
    "print(\"MSE :\", mse)\n",
    "\n",
    "# RMSE (Root Mean Squared Error) - Raíz del Error Cuadrático Medio\n",
    "# Es la raíz cuadrada del MSE. Mientras más bajo sea el valor, mejor es el estimador\n",
    "rmse = np.sqrt(mse)\n",
    "print(\"RMSE:\", rmse)\n",
    "\n",
    "# R2 (R cuadrado) - Coeficiente de determinación\n",
    "# Es una medida que indica cuánto de la variabilidad de la variable dependiente es explicada por el modelo\n",
    "r2 = r2_score(y_test, predictions)\n",
    "print(\"R2  :\", r2)"
   ]
  },
  {
   "cell_type": "markdown",
   "metadata": {},
   "source": [
    "- El MSE es aproximadamente 0.558. Esto significa que, en promedio, el cuadrado de la diferencia entre las predicciones del modelo y los valores reales es de alrededor de 0.757. Un MSE más bajo indica un mejor ajuste del modelo a los datos, lo que sugiere que el modelo tiene un nivel moderado de error en sus predicciones.\n",
    "\n",
    "- El RMSE es aproximadamente 0.747. Esto significa que, en promedio, el modelo tiene un error de alrededor de 0.870 en sus predicciones en la misma escala que la variable que estás tratando de predecir. Un RMSE más bajo también indica un mejor ajuste del modelo.\n",
    "\n",
    "- El R2 es aproximadamente 0.239. Esto significa que alrededor del 23.9% de la variabilidad en la variable dependiente es explicada por el modelo. Un R2 más alto indica un mejor ajuste del modelo a los datos, pero en este caso, el valor relativamente bajo de R2 sugiere que el modelo puede no estar capturando completamente la variabilidad en los datos.\n",
    "\n",
    "En resumen, el modelo de regresión lineal no tiene un buen desempeño, por lo que se podría tratar de mejorar su capacidad predictiva y explicativa. \n",
    "\n",
    "Por último, hagamos un gráfico que muestre los resultados que nuestro modelo ha predicho."
   ]
  },
  {
   "cell_type": "code",
   "execution_count": 12,
   "metadata": {},
   "outputs": [
    {
     "data": {
      "image/png": "[encoded data removed]",
      "text/plain": [
       "<Figure size 432x288 with 1 Axes>"
      ]
     },
     "metadata": {
      "needs_background": "light"
     },
     "output_type": "display_data"
    }
   ],
   "source": [
    "plt.scatter(y_test, predictions)\n",
    "plt.xlabel('Valores Reales')\n",
    "plt.ylabel('Predicciones')\n",
    "plt.title('Predicciones de Partidos de Fútbol')\n",
    "\n",
    "z = np.polyfit(y_test, predictions, 1)\n",
    "p = np.poly1d(z)\n",
    "\n",
    "plt.plot(y_test,p(y_test), color='red')\n",
    "plt.show()"
   ]
  }
 ],
 "metadata": {
  "kernelspec": {
   "display_name": "base",
   "language": "python",
   "name": "python3"
  },
  "language_info": {
   "codemirror_mode": {
    "name": "ipython",
    "version": 3
   },
   "file_extension": ".py",
   "mimetype": "text/x-python",
   "name": "python",
   "nbconvert_exporter": "python",
   "pygments_lexer": "ipython3",
   "version": "3.9.12"
  }
 },
 "nbformat": 4,
 "nbformat_minor": 2
}
