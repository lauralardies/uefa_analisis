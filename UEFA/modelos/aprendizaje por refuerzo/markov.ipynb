{
 "cells": [
  {
   "cell_type": "markdown",
   "metadata": {},
   "source": [
    "# **Cadenas de Markov**\n",
    "\n",
    "### En este documento calcularemos las matrices de transición de un equipo de fútbol con los estados: ganar, perer o empatar.\n",
    "\n",
    "Comenzamos importando todas las dependecias necesarias para el correcto funcionamiento del documento."
   ]
  },
  {
   "cell_type": "code",
   "execution_count": 1,
   "metadata": {},
   "outputs": [],
   "source": [
    "# Importamos librerías\n",
    "\n",
    "# Librerías para manejo de datos\n",
    "import pandas as pd\n",
    "\n",
    "# Librerías para operaciones aleatorias\n",
    "from random import random\n",
    "\n",
    "# Librerías para anotaciones de tipo y futuras versiones de Python\n",
    "from __future__ import annotations\n",
    "\n",
    "# Librerías para anotaciones de tipo\n",
    "from typing import Dict, List\n",
    "\n",
    "# Librerías para imprimir tablas\n",
    "from tabulate import tabulate"
   ]
  },
  {
   "cell_type": "markdown",
   "metadata": {},
   "source": [
    "Importamos nuestros datos."
   ]
  },
  {
   "cell_type": "code",
   "execution_count": 2,
   "metadata": {},
   "outputs": [],
   "source": [
    "partidos = pd.read_csv('../../data/partidos_limpio.csv')"
   ]
  },
  {
   "cell_type": "markdown",
   "metadata": {},
   "source": [
    "Creamos una clase que nos permite definir y manipular un grafo que representa las transiciones entre diferentes estados. Cada estado en el grafo representa una situación o condición, y las transiciones entre estados están definidas por probabilidades. Por ejemplo, si estamos modelando el comportamiento de un equipo deportivo, los estados podrían ser \"ganar\", \"empatar\" o \"perder\", y las transiciones entre estos estados podrían estar determinadas por la probabilidad de que el equipo gane, empate o pierda en un partido determinado."
   ]
  },
  {
   "cell_type": "code",
   "execution_count": 3,
   "metadata": {},
   "outputs": [],
   "source": [
    "class MarkovChainGraph:\n",
    "    \"\"\"\n",
    "    Grafo para ejecutar el Algoritmo de Cadena de Markov\n",
    "    \"\"\"\n",
    "\n",
    "    def __init__(self):\n",
    "        self.transitions: Dict[str, Dict[str, float]] = {}\n",
    "\n",
    "    def add_transition_probability(\n",
    "        self, from_state: str, to_state: str, probability: float\n",
    "    ) -> None:\n",
    "        if from_state not in self.transitions:\n",
    "            self.transitions[from_state] = {}\n",
    "        self.transitions[from_state][to_state] = probability\n",
    "\n",
    "    def get_states(self) -> List[str]:\n",
    "        return list(self.transitions.keys())\n",
    "\n",
    "    def transition(self, current_state: str) -> str:\n",
    "        transition_probabilities = self.transitions.get(current_state, {})\n",
    "        total_probability = sum(transition_probabilities.values())\n",
    "        if total_probability == 0:\n",
    "            return \"\"\n",
    "        random_value = random()\n",
    "        cumulative_probability = 0\n",
    "        for next_state, probability in transition_probabilities.items():\n",
    "            cumulative_probability += probability / total_probability\n",
    "            if random_value <= cumulative_probability:\n",
    "                return next_state\n",
    "        return \"\""
   ]
  },
  {
   "cell_type": "markdown",
   "metadata": {},
   "source": [
    "Ahora creamos una función que calcule automáticamente la matriz de transición a partir de los datos de los partidos contenidos en un DataFrame. Esta matriz de transición es esencial para utilizar el algoritmo de Markov de manera efectiva, ya que define las probabilidades de transición entre diferentes estados."
   ]
  },
  {
   "cell_type": "code",
   "execution_count": 4,
   "metadata": {},
   "outputs": [],
   "source": [
    "def get_transition_matrix_from_dataframe(\n",
    "    df: pd.DataFrame, home_col: str, away_col: str, result_col: str\n",
    ") -> Dict[str, Dict[str, float]]:\n",
    "    \"\"\"\n",
    "    Calcula la matriz de transición de una cadena de Markov basada en los resultados de los partidos de un DataFrame.\n",
    "\n",
    "    Args:\n",
    "    df (DataFrame): DataFrame que contiene los resultados de los partidos.\n",
    "    home_col (str): Nombre de la columna para los equipos locales.\n",
    "    away_col (str): Nombre de la columna para los equipos visitantes.\n",
    "    result_col (str): Nombre de la columna para los resultados de los partidos.\n",
    "\n",
    "    Returns:\n",
    "    dict: Matriz de transición representada como un diccionario.\n",
    "    \"\"\"\n",
    "    transitions = []\n",
    "\n",
    "    # Convertir los resultados de los partidos en estados ('win', 'draw', 'lose')\n",
    "    result_map = {'H': 'win', 'D': 'draw', 'A': 'lose'}\n",
    "    df['from_state'] = df[result_col].map(result_map)\n",
    "\n",
    "    # Calcular la siguiente transición como el estado siguiente después del partido\n",
    "    df['to_state'] = df.groupby(home_col)['from_state'].shift(-1)\n",
    "\n",
    "    # Eliminar filas con NaN resultantes de la última transición de cada equipo\n",
    "    df.dropna(subset=['to_state'], inplace=True)\n",
    "\n",
    "    # Contar ocurrencias de transición\n",
    "    transition_counts = pd.crosstab(df['from_state'], df['to_state'])\n",
    "\n",
    "    # Normalizar frecuencias para obtener probabilidades\n",
    "    transition_probabilities = transition_counts.div(transition_counts.sum(axis=1), axis=0)\n",
    "\n",
    "    # Convertir probabilidades de transición a un diccionario\n",
    "    transition_matrix = transition_probabilities.to_dict(orient='index')\n",
    "\n",
    "    return transition_matrix"
   ]
  },
  {
   "cell_type": "markdown",
   "metadata": {},
   "source": [
    "Podemos obtener una matriz de transición que nos muestra las probabilidades de los resultados de cualquier partido. Es decir, viendo el historial del torneo, vemos las probabilidades de que un equipo cualquiera gane, pierda o empate un partido. \n",
    "\n",
    "Sin embargo, es mucho más práctico ver la matriz de transición de un equipo. Por lo tanto, haremos una función que nos filtre los partidos del equipo del que queramos obtener la matriz de transición."
   ]
  },
  {
   "cell_type": "code",
   "execution_count": 5,
   "metadata": {},
   "outputs": [],
   "source": [
    "def partidos_equipo(equipo, df):\n",
    "    \"\"\"\n",
    "    Filtra los partidos en los que un equipo específico estuvo involucrado.\n",
    "\n",
    "    Args:\n",
    "    equipo (str): Nombre del equipo.\n",
    "    df (DataFrame): DataFrame que contiene los datos de los partidos.\n",
    "\n",
    "    Returns:\n",
    "    DataFrame: DataFrame filtrado que contiene los partidos del equipo especificado.\n",
    "    \"\"\"\n",
    "    return df[(df['Home'] == equipo) | (df['Away'] == equipo)].copy()"
   ]
  },
  {
   "cell_type": "markdown",
   "metadata": {},
   "source": [
    "Ahora pongamos todo este código en funcionamiento. \n",
    "\n",
    "Primero filtremos los partidos de los equipos de los que queramos obtener su matriz de transición. Por ejemplo, podemos ver los partidos de los equipos que pasaron a la semifinal del torneo."
   ]
  },
  {
   "cell_type": "code",
   "execution_count": 6,
   "metadata": {},
   "outputs": [],
   "source": [
    "# Filtrar los partidos de los cuatro equipos de semifinales\n",
    "partidos_real_madrid = partidos_equipo('Real Madrid', partidos)\n",
    "partidos_bayer_munich = partidos_equipo('Bayern Munich', partidos)\n",
    "partidos_psg = partidos_equipo('Paris S-G', partidos)\n",
    "partidos_dortmund = partidos_equipo('Dortmund', partidos)"
   ]
  },
  {
   "cell_type": "markdown",
   "metadata": {},
   "source": [
    "Ahora obtenemos las matrices de transición de cada equipo."
   ]
  },
  {
   "cell_type": "code",
   "execution_count": 7,
   "metadata": {},
   "outputs": [
    {
     "name": "stdout",
     "output_type": "stream",
     "text": [
      "Matriz de Transición del Real Madrid:\n",
      "+------+------+------+------+\n",
      "|      | draw | lose | win  |\n",
      "+------+------+------+------+\n",
      "| draw | 0.08 | 0.25 | 0.67 |\n",
      "| lose | 0.15 | 0.40 | 0.45 |\n",
      "| win  | 0.21 | 0.13 | 0.66 |\n",
      "+------+------+------+------+\n"
     ]
    }
   ],
   "source": [
    "# Obtener la matriz de transición de los resultados de los partidos del Real Madrid\n",
    "matriz_transicion = get_transition_matrix_from_dataframe(partidos_real_madrid, 'Home', 'Away', 'Results')\n",
    "\n",
    "# Mostrar la matriz de transición con tabulate\n",
    "headers = [\"\", \"draw\", \"lose\", \"win\"]\n",
    "rows = []\n",
    "\n",
    "# Convertir la matriz de transición en una lista de listas para tabulate\n",
    "for estado, transiciones in matriz_transicion.items():\n",
    "    transiciones_str = [f\"{valor:.2f}\" for valor in transiciones.values()]\n",
    "    rows.append([estado] + transiciones_str)\n",
    "\n",
    "# Imprimir la tabla con tabulate\n",
    "print(\"Matriz de Transición del Real Madrid:\")\n",
    "print(tabulate(rows, headers=headers, tablefmt=\"pretty\"))"
   ]
  },
  {
   "cell_type": "code",
   "execution_count": 8,
   "metadata": {},
   "outputs": [
    {
     "name": "stdout",
     "output_type": "stream",
     "text": [
      "Matriz de Transición del Bayern Munich:\n",
      "+------+------+------+------+\n",
      "|      | draw | lose | win  |\n",
      "+------+------+------+------+\n",
      "| draw | 0.00 | 0.33 | 0.67 |\n",
      "| lose | 0.06 | 0.33 | 0.61 |\n",
      "| win  | 0.21 | 0.24 | 0.55 |\n",
      "+------+------+------+------+\n"
     ]
    }
   ],
   "source": [
    "# Obtener la matriz de transición de los resultados de los partidos del Bayern Munich\n",
    "matriz_transicion = get_transition_matrix_from_dataframe(partidos_bayer_munich, 'Home', 'Away', 'Results')\n",
    "\n",
    "# Mostrar la matriz de transición con tabulate\n",
    "rows = []\n",
    "\n",
    "# Convertir la matriz de transición en una lista de listas para tabulate\n",
    "for estado, transiciones in matriz_transicion.items():\n",
    "    transiciones_str = [f\"{valor:.2f}\" for valor in transiciones.values()]\n",
    "    rows.append([estado] + transiciones_str)\n",
    "\n",
    "# Imprimir la tabla con tabulate\n",
    "print(\"Matriz de Transición del Bayern Munich:\")\n",
    "print(tabulate(rows, headers=headers, tablefmt=\"pretty\"))"
   ]
  },
  {
   "cell_type": "code",
   "execution_count": 9,
   "metadata": {},
   "outputs": [
    {
     "name": "stdout",
     "output_type": "stream",
     "text": [
      "Matriz de Transición del Dortmund:\n",
      "+------+------+------+------+\n",
      "|      | draw | lose | win  |\n",
      "+------+------+------+------+\n",
      "| draw | 0.00 | 1.00 | 0.00 |\n",
      "| lose | 0.00 | 0.40 | 0.60 |\n",
      "| win  | 0.10 | 0.30 | 0.60 |\n",
      "+------+------+------+------+\n"
     ]
    }
   ],
   "source": [
    "# Obtener la matriz de transición de los resultados de los partidos del Dortmund\n",
    "matriz_transicion = get_transition_matrix_from_dataframe(partidos_dortmund, 'Home', 'Away', 'Results')\n",
    "\n",
    "# Mostrar la matriz de transición con tabulate\n",
    "rows = []\n",
    "\n",
    "# Convertir la matriz de transición en una lista de listas para tabulate\n",
    "for estado, transiciones in matriz_transicion.items():\n",
    "    transiciones_str = [f\"{valor:.2f}\" for valor in transiciones.values()]\n",
    "    rows.append([estado] + transiciones_str)\n",
    "\n",
    "# Imprimir la tabla con tabulate\n",
    "print(\"Matriz de Transición del Dortmund:\")\n",
    "print(tabulate(rows, headers=headers, tablefmt=\"pretty\"))"
   ]
  },
  {
   "cell_type": "code",
   "execution_count": 10,
   "metadata": {},
   "outputs": [
    {
     "name": "stdout",
     "output_type": "stream",
     "text": [
      "Matriz de Transición del Paris S-G:\n",
      "+------+------+------+------+\n",
      "|      | draw | lose | win  |\n",
      "+------+------+------+------+\n",
      "| draw | 0.40 | 0.40 | 0.20 |\n",
      "| lose | 0.09 | 0.45 | 0.45 |\n",
      "| win  | 0.33 | 0.25 | 0.42 |\n",
      "+------+------+------+------+\n"
     ]
    }
   ],
   "source": [
    "# Obtener la matriz de transición de los resultados de los partidos del Paris S-G\n",
    "matriz_transicion = get_transition_matrix_from_dataframe(partidos_psg, 'Home', 'Away', 'Results')\n",
    "\n",
    "# Mostrar la matriz de transición con tabulate\n",
    "rows = []\n",
    "\n",
    "# Convertir la matriz de transición en una lista de listas para tabulate\n",
    "for estado, transiciones in matriz_transicion.items():\n",
    "    transiciones_str = [f\"{valor:.2f}\" for valor in transiciones.values()]\n",
    "    rows.append([estado] + transiciones_str)\n",
    "\n",
    "# Imprimir la tabla con tabulate\n",
    "print(\"Matriz de Transición del Paris S-G:\")\n",
    "print(tabulate(rows, headers=headers, tablefmt=\"pretty\"))"
   ]
  }
 ],
 "metadata": {
  "kernelspec": {
   "display_name": "base",
   "language": "python",
   "name": "python3"
  },
  "language_info": {
   "codemirror_mode": {
    "name": "ipython",
    "version": 3
   },
   "file_extension": ".py",
   "mimetype": "text/x-python",
   "name": "python",
   "nbconvert_exporter": "python",
   "pygments_lexer": "ipython3",
   "version": "3.9.12"
  }
 },
 "nbformat": 4,
 "nbformat_minor": 2
}
